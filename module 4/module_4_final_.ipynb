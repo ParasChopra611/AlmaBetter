{
  "nbformat": 4,
  "nbformat_minor": 0,
  "metadata": {
    "colab": {
      "provenance": [],
      "collapsed_sections": [
        "5SCkr65mjSyK",
        "S7R2yQ32jlEp"
      ],
      "toc_visible": true
    },
    "kernelspec": {
      "name": "python3",
      "display_name": "Python 3"
    },
    "language_info": {
      "name": "python"
    }
  },
  "cells": [
    {
      "cell_type": "code",
      "execution_count": 1,
      "metadata": {
        "id": "tL5DdCgnVO0c"
      },
      "outputs": [],
      "source": [
        "import pandas as pd\n",
        "import matplotlib.pyplot as plt\n",
        "import numpy as np\n",
        "import seaborn as sns\n",
        "\n",
        "%matplotlib inline"
      ]
    },
    {
      "cell_type": "markdown",
      "source": [
        "# Github Link"
      ],
      "metadata": {
        "id": "8UfprjqXED2Q"
      }
    },
    {
      "cell_type": "markdown",
      "source": [
        "https://github.com/ParasChopra611/AlmaBetter/tree/main/module%204"
      ],
      "metadata": {
        "id": "e7nEvqtBEHKz"
      }
    },
    {
      "cell_type": "markdown",
      "source": [
        "# Importing datasets"
      ],
      "metadata": {
        "id": "Cqne_R0IgGBD"
      }
    },
    {
      "cell_type": "markdown",
      "source": [
        "## Importing chicago data"
      ],
      "metadata": {
        "id": "5H43URMJYntb"
      }
    },
    {
      "cell_type": "code",
      "source": [
        "df_chicago = pd.read_csv('/content/drive/MyDrive/AA AlmaBetter/Module 4 tableau Dashboard/listings chicago .csv')"
      ],
      "metadata": {
        "id": "iqG81ozQXq_L"
      },
      "execution_count": 2,
      "outputs": []
    },
    {
      "cell_type": "code",
      "source": [
        "df_chicago.head(3)"
      ],
      "metadata": {
        "colab": {
          "base_uri": "https://localhost:8080/",
          "height": 424
        },
        "id": "kk5rB-YRYKUi",
        "outputId": "c58e0ca3-b5c4-483d-ac87-49c340f5d78e"
      },
      "execution_count": 3,
      "outputs": [
        {
          "output_type": "execute_result",
          "data": {
            "text/plain": [
              "      id                                               name  host_id  \\\n",
              "0   2384  Condo in Chicago · ★4.99 · 1 bedroom · 1 bed ·...     2613   \n",
              "1   7126  Rental unit in Chicago · ★4.70 · 1 bedroom · 1...    17928   \n",
              "2  10945  Rental unit in Chicago · ★4.65 · 2 bedrooms · ...    33004   \n",
              "\n",
              "     host_name  neighbourhood_group neighbourhood  latitude  longitude  \\\n",
              "0      Rebecca                  NaN     Hyde Park  41.78790  -87.58780   \n",
              "1        Sarah                  NaN     West Town  41.90166  -87.68021   \n",
              "2  At Home Inn                  NaN  Lincoln Park  41.91196  -87.63981   \n",
              "\n",
              "         room_type  price  minimum_nights  number_of_reviews last_review  \\\n",
              "0     Private room    114               3                227  2023-09-03   \n",
              "1  Entire home/apt     92              32                505  2023-08-30   \n",
              "2  Entire home/apt    170               4                 72  2023-08-29   \n",
              "\n",
              "   reviews_per_month  calculated_host_listings_count  availability_365  \\\n",
              "0               2.15                               1               322   \n",
              "1               2.92                               1               347   \n",
              "2               0.63                               7               146   \n",
              "\n",
              "   number_of_reviews_ltm       license  \n",
              "0                     20  R17000015609  \n",
              "1                     45  R21000075737  \n",
              "2                     16       2209984  "
            ],
            "text/html": [
              "\n",
              "  <div id=\"df-4c5f8a5b-49e1-4544-938e-c4e409bb48de\" class=\"colab-df-container\">\n",
              "    <div>\n",
              "<style scoped>\n",
              "    .dataframe tbody tr th:only-of-type {\n",
              "        vertical-align: middle;\n",
              "    }\n",
              "\n",
              "    .dataframe tbody tr th {\n",
              "        vertical-align: top;\n",
              "    }\n",
              "\n",
              "    .dataframe thead th {\n",
              "        text-align: right;\n",
              "    }\n",
              "</style>\n",
              "<table border=\"1\" class=\"dataframe\">\n",
              "  <thead>\n",
              "    <tr style=\"text-align: right;\">\n",
              "      <th></th>\n",
              "      <th>id</th>\n",
              "      <th>name</th>\n",
              "      <th>host_id</th>\n",
              "      <th>host_name</th>\n",
              "      <th>neighbourhood_group</th>\n",
              "      <th>neighbourhood</th>\n",
              "      <th>latitude</th>\n",
              "      <th>longitude</th>\n",
              "      <th>room_type</th>\n",
              "      <th>price</th>\n",
              "      <th>minimum_nights</th>\n",
              "      <th>number_of_reviews</th>\n",
              "      <th>last_review</th>\n",
              "      <th>reviews_per_month</th>\n",
              "      <th>calculated_host_listings_count</th>\n",
              "      <th>availability_365</th>\n",
              "      <th>number_of_reviews_ltm</th>\n",
              "      <th>license</th>\n",
              "    </tr>\n",
              "  </thead>\n",
              "  <tbody>\n",
              "    <tr>\n",
              "      <th>0</th>\n",
              "      <td>2384</td>\n",
              "      <td>Condo in Chicago · ★4.99 · 1 bedroom · 1 bed ·...</td>\n",
              "      <td>2613</td>\n",
              "      <td>Rebecca</td>\n",
              "      <td>NaN</td>\n",
              "      <td>Hyde Park</td>\n",
              "      <td>41.78790</td>\n",
              "      <td>-87.58780</td>\n",
              "      <td>Private room</td>\n",
              "      <td>114</td>\n",
              "      <td>3</td>\n",
              "      <td>227</td>\n",
              "      <td>2023-09-03</td>\n",
              "      <td>2.15</td>\n",
              "      <td>1</td>\n",
              "      <td>322</td>\n",
              "      <td>20</td>\n",
              "      <td>R17000015609</td>\n",
              "    </tr>\n",
              "    <tr>\n",
              "      <th>1</th>\n",
              "      <td>7126</td>\n",
              "      <td>Rental unit in Chicago · ★4.70 · 1 bedroom · 1...</td>\n",
              "      <td>17928</td>\n",
              "      <td>Sarah</td>\n",
              "      <td>NaN</td>\n",
              "      <td>West Town</td>\n",
              "      <td>41.90166</td>\n",
              "      <td>-87.68021</td>\n",
              "      <td>Entire home/apt</td>\n",
              "      <td>92</td>\n",
              "      <td>32</td>\n",
              "      <td>505</td>\n",
              "      <td>2023-08-30</td>\n",
              "      <td>2.92</td>\n",
              "      <td>1</td>\n",
              "      <td>347</td>\n",
              "      <td>45</td>\n",
              "      <td>R21000075737</td>\n",
              "    </tr>\n",
              "    <tr>\n",
              "      <th>2</th>\n",
              "      <td>10945</td>\n",
              "      <td>Rental unit in Chicago · ★4.65 · 2 bedrooms · ...</td>\n",
              "      <td>33004</td>\n",
              "      <td>At Home Inn</td>\n",
              "      <td>NaN</td>\n",
              "      <td>Lincoln Park</td>\n",
              "      <td>41.91196</td>\n",
              "      <td>-87.63981</td>\n",
              "      <td>Entire home/apt</td>\n",
              "      <td>170</td>\n",
              "      <td>4</td>\n",
              "      <td>72</td>\n",
              "      <td>2023-08-29</td>\n",
              "      <td>0.63</td>\n",
              "      <td>7</td>\n",
              "      <td>146</td>\n",
              "      <td>16</td>\n",
              "      <td>2209984</td>\n",
              "    </tr>\n",
              "  </tbody>\n",
              "</table>\n",
              "</div>\n",
              "    <div class=\"colab-df-buttons\">\n",
              "\n",
              "  <div class=\"colab-df-container\">\n",
              "    <button class=\"colab-df-convert\" onclick=\"convertToInteractive('df-4c5f8a5b-49e1-4544-938e-c4e409bb48de')\"\n",
              "            title=\"Convert this dataframe to an interactive table.\"\n",
              "            style=\"display:none;\">\n",
              "\n",
              "  <svg xmlns=\"http://www.w3.org/2000/svg\" height=\"24px\" viewBox=\"0 -960 960 960\">\n",
              "    <path d=\"M120-120v-720h720v720H120Zm60-500h600v-160H180v160Zm220 220h160v-160H400v160Zm0 220h160v-160H400v160ZM180-400h160v-160H180v160Zm440 0h160v-160H620v160ZM180-180h160v-160H180v160Zm440 0h160v-160H620v160Z\"/>\n",
              "  </svg>\n",
              "    </button>\n",
              "\n",
              "  <style>\n",
              "    .colab-df-container {\n",
              "      display:flex;\n",
              "      gap: 12px;\n",
              "    }\n",
              "\n",
              "    .colab-df-convert {\n",
              "      background-color: #E8F0FE;\n",
              "      border: none;\n",
              "      border-radius: 50%;\n",
              "      cursor: pointer;\n",
              "      display: none;\n",
              "      fill: #1967D2;\n",
              "      height: 32px;\n",
              "      padding: 0 0 0 0;\n",
              "      width: 32px;\n",
              "    }\n",
              "\n",
              "    .colab-df-convert:hover {\n",
              "      background-color: #E2EBFA;\n",
              "      box-shadow: 0px 1px 2px rgba(60, 64, 67, 0.3), 0px 1px 3px 1px rgba(60, 64, 67, 0.15);\n",
              "      fill: #174EA6;\n",
              "    }\n",
              "\n",
              "    .colab-df-buttons div {\n",
              "      margin-bottom: 4px;\n",
              "    }\n",
              "\n",
              "    [theme=dark] .colab-df-convert {\n",
              "      background-color: #3B4455;\n",
              "      fill: #D2E3FC;\n",
              "    }\n",
              "\n",
              "    [theme=dark] .colab-df-convert:hover {\n",
              "      background-color: #434B5C;\n",
              "      box-shadow: 0px 1px 3px 1px rgba(0, 0, 0, 0.15);\n",
              "      filter: drop-shadow(0px 1px 2px rgba(0, 0, 0, 0.3));\n",
              "      fill: #FFFFFF;\n",
              "    }\n",
              "  </style>\n",
              "\n",
              "    <script>\n",
              "      const buttonEl =\n",
              "        document.querySelector('#df-4c5f8a5b-49e1-4544-938e-c4e409bb48de button.colab-df-convert');\n",
              "      buttonEl.style.display =\n",
              "        google.colab.kernel.accessAllowed ? 'block' : 'none';\n",
              "\n",
              "      async function convertToInteractive(key) {\n",
              "        const element = document.querySelector('#df-4c5f8a5b-49e1-4544-938e-c4e409bb48de');\n",
              "        const dataTable =\n",
              "          await google.colab.kernel.invokeFunction('convertToInteractive',\n",
              "                                                    [key], {});\n",
              "        if (!dataTable) return;\n",
              "\n",
              "        const docLinkHtml = 'Like what you see? Visit the ' +\n",
              "          '<a target=\"_blank\" href=https://colab.research.google.com/notebooks/data_table.ipynb>data table notebook</a>'\n",
              "          + ' to learn more about interactive tables.';\n",
              "        element.innerHTML = '';\n",
              "        dataTable['output_type'] = 'display_data';\n",
              "        await google.colab.output.renderOutput(dataTable, element);\n",
              "        const docLink = document.createElement('div');\n",
              "        docLink.innerHTML = docLinkHtml;\n",
              "        element.appendChild(docLink);\n",
              "      }\n",
              "    </script>\n",
              "  </div>\n",
              "\n",
              "\n",
              "<div id=\"df-77828b6a-f259-41b5-82e2-0e47394c116a\">\n",
              "  <button class=\"colab-df-quickchart\" onclick=\"quickchart('df-77828b6a-f259-41b5-82e2-0e47394c116a')\"\n",
              "            title=\"Suggest charts\"\n",
              "            style=\"display:none;\">\n",
              "\n",
              "<svg xmlns=\"http://www.w3.org/2000/svg\" height=\"24px\"viewBox=\"0 0 24 24\"\n",
              "     width=\"24px\">\n",
              "    <g>\n",
              "        <path d=\"M19 3H5c-1.1 0-2 .9-2 2v14c0 1.1.9 2 2 2h14c1.1 0 2-.9 2-2V5c0-1.1-.9-2-2-2zM9 17H7v-7h2v7zm4 0h-2V7h2v10zm4 0h-2v-4h2v4z\"/>\n",
              "    </g>\n",
              "</svg>\n",
              "  </button>\n",
              "\n",
              "<style>\n",
              "  .colab-df-quickchart {\n",
              "      --bg-color: #E8F0FE;\n",
              "      --fill-color: #1967D2;\n",
              "      --hover-bg-color: #E2EBFA;\n",
              "      --hover-fill-color: #174EA6;\n",
              "      --disabled-fill-color: #AAA;\n",
              "      --disabled-bg-color: #DDD;\n",
              "  }\n",
              "\n",
              "  [theme=dark] .colab-df-quickchart {\n",
              "      --bg-color: #3B4455;\n",
              "      --fill-color: #D2E3FC;\n",
              "      --hover-bg-color: #434B5C;\n",
              "      --hover-fill-color: #FFFFFF;\n",
              "      --disabled-bg-color: #3B4455;\n",
              "      --disabled-fill-color: #666;\n",
              "  }\n",
              "\n",
              "  .colab-df-quickchart {\n",
              "    background-color: var(--bg-color);\n",
              "    border: none;\n",
              "    border-radius: 50%;\n",
              "    cursor: pointer;\n",
              "    display: none;\n",
              "    fill: var(--fill-color);\n",
              "    height: 32px;\n",
              "    padding: 0;\n",
              "    width: 32px;\n",
              "  }\n",
              "\n",
              "  .colab-df-quickchart:hover {\n",
              "    background-color: var(--hover-bg-color);\n",
              "    box-shadow: 0 1px 2px rgba(60, 64, 67, 0.3), 0 1px 3px 1px rgba(60, 64, 67, 0.15);\n",
              "    fill: var(--button-hover-fill-color);\n",
              "  }\n",
              "\n",
              "  .colab-df-quickchart-complete:disabled,\n",
              "  .colab-df-quickchart-complete:disabled:hover {\n",
              "    background-color: var(--disabled-bg-color);\n",
              "    fill: var(--disabled-fill-color);\n",
              "    box-shadow: none;\n",
              "  }\n",
              "\n",
              "  .colab-df-spinner {\n",
              "    border: 2px solid var(--fill-color);\n",
              "    border-color: transparent;\n",
              "    border-bottom-color: var(--fill-color);\n",
              "    animation:\n",
              "      spin 1s steps(1) infinite;\n",
              "  }\n",
              "\n",
              "  @keyframes spin {\n",
              "    0% {\n",
              "      border-color: transparent;\n",
              "      border-bottom-color: var(--fill-color);\n",
              "      border-left-color: var(--fill-color);\n",
              "    }\n",
              "    20% {\n",
              "      border-color: transparent;\n",
              "      border-left-color: var(--fill-color);\n",
              "      border-top-color: var(--fill-color);\n",
              "    }\n",
              "    30% {\n",
              "      border-color: transparent;\n",
              "      border-left-color: var(--fill-color);\n",
              "      border-top-color: var(--fill-color);\n",
              "      border-right-color: var(--fill-color);\n",
              "    }\n",
              "    40% {\n",
              "      border-color: transparent;\n",
              "      border-right-color: var(--fill-color);\n",
              "      border-top-color: var(--fill-color);\n",
              "    }\n",
              "    60% {\n",
              "      border-color: transparent;\n",
              "      border-right-color: var(--fill-color);\n",
              "    }\n",
              "    80% {\n",
              "      border-color: transparent;\n",
              "      border-right-color: var(--fill-color);\n",
              "      border-bottom-color: var(--fill-color);\n",
              "    }\n",
              "    90% {\n",
              "      border-color: transparent;\n",
              "      border-bottom-color: var(--fill-color);\n",
              "    }\n",
              "  }\n",
              "</style>\n",
              "\n",
              "  <script>\n",
              "    async function quickchart(key) {\n",
              "      const quickchartButtonEl =\n",
              "        document.querySelector('#' + key + ' button');\n",
              "      quickchartButtonEl.disabled = true;  // To prevent multiple clicks.\n",
              "      quickchartButtonEl.classList.add('colab-df-spinner');\n",
              "      try {\n",
              "        const charts = await google.colab.kernel.invokeFunction(\n",
              "            'suggestCharts', [key], {});\n",
              "      } catch (error) {\n",
              "        console.error('Error during call to suggestCharts:', error);\n",
              "      }\n",
              "      quickchartButtonEl.classList.remove('colab-df-spinner');\n",
              "      quickchartButtonEl.classList.add('colab-df-quickchart-complete');\n",
              "    }\n",
              "    (() => {\n",
              "      let quickchartButtonEl =\n",
              "        document.querySelector('#df-77828b6a-f259-41b5-82e2-0e47394c116a button');\n",
              "      quickchartButtonEl.style.display =\n",
              "        google.colab.kernel.accessAllowed ? 'block' : 'none';\n",
              "    })();\n",
              "  </script>\n",
              "</div>\n",
              "\n",
              "    </div>\n",
              "  </div>\n"
            ]
          },
          "metadata": {},
          "execution_count": 3
        }
      ]
    },
    {
      "cell_type": "code",
      "source": [
        "df_chicago.shape"
      ],
      "metadata": {
        "colab": {
          "base_uri": "https://localhost:8080/"
        },
        "id": "17EOLIbbYVfJ",
        "outputId": "16f8fff7-dc7a-45fc-a5db-9a7b12729b5d"
      },
      "execution_count": 4,
      "outputs": [
        {
          "output_type": "execute_result",
          "data": {
            "text/plain": [
              "(8528, 18)"
            ]
          },
          "metadata": {},
          "execution_count": 4
        }
      ]
    },
    {
      "cell_type": "markdown",
      "source": [
        "## Importing New orleans data"
      ],
      "metadata": {
        "id": "jarEga0TYJpj"
      }
    },
    {
      "cell_type": "code",
      "source": [
        "df_new_orl = pd.read_csv('/content/drive/MyDrive/AA AlmaBetter/Module 4 tableau Dashboard/listings new orleans.csv')\n",
        "df_new_orl.head(3)"
      ],
      "metadata": {
        "colab": {
          "base_uri": "https://localhost:8080/",
          "height": 441
        },
        "id": "M8ggI446YtaF",
        "outputId": "a2e82568-17c3-4c3e-b2dd-0cf43c2d8457"
      },
      "execution_count": 5,
      "outputs": [
        {
          "output_type": "execute_result",
          "data": {
            "text/plain": [
              "      id                                               name  host_id  \\\n",
              "0  19091  Rental unit in New Orleans · ★4.89 · 1 bedroom...    72880   \n",
              "1  71624  Rental unit in New Orleans · ★4.94 · 1 bedroom...   367223   \n",
              "2  74498  Rental unit in New Orleans · ★4.90 · 1 bedroom...   391462   \n",
              "\n",
              "  host_name  neighbourhood_group neighbourhood  latitude  longitude  \\\n",
              "0      John                  NaN      Leonidas  29.96100  -90.11950   \n",
              "1     Susan                  NaN       Bywater  29.96153  -90.04364   \n",
              "2   Georgia                  NaN      St. Roch  29.96986  -90.05172   \n",
              "\n",
              "         room_type  price  minimum_nights  number_of_reviews last_review  \\\n",
              "0  Entire home/apt     60               1                503  2023-11-06   \n",
              "1  Entire home/apt    150               3                293  2023-10-23   \n",
              "2  Entire home/apt     91               3                603  2023-11-19   \n",
              "\n",
              "   reviews_per_month  calculated_host_listings_count  availability_365  \\\n",
              "0               3.03                               1                 0   \n",
              "1               1.88                               1               336   \n",
              "2               3.89                               3               237   \n",
              "\n",
              "   number_of_reviews_ltm                                            license  \n",
              "0                      7                       22-RSTR-14107, 22-OSTR-14105  \n",
              "1                     17                       21-RSTR-18609, 22-OSTR-20720  \n",
              "2                     40  Exempt: This listing is a licensed hotel, mote...  "
            ],
            "text/html": [
              "\n",
              "  <div id=\"df-c611503b-5ec6-4d62-9d86-b8fdf1c6e380\" class=\"colab-df-container\">\n",
              "    <div>\n",
              "<style scoped>\n",
              "    .dataframe tbody tr th:only-of-type {\n",
              "        vertical-align: middle;\n",
              "    }\n",
              "\n",
              "    .dataframe tbody tr th {\n",
              "        vertical-align: top;\n",
              "    }\n",
              "\n",
              "    .dataframe thead th {\n",
              "        text-align: right;\n",
              "    }\n",
              "</style>\n",
              "<table border=\"1\" class=\"dataframe\">\n",
              "  <thead>\n",
              "    <tr style=\"text-align: right;\">\n",
              "      <th></th>\n",
              "      <th>id</th>\n",
              "      <th>name</th>\n",
              "      <th>host_id</th>\n",
              "      <th>host_name</th>\n",
              "      <th>neighbourhood_group</th>\n",
              "      <th>neighbourhood</th>\n",
              "      <th>latitude</th>\n",
              "      <th>longitude</th>\n",
              "      <th>room_type</th>\n",
              "      <th>price</th>\n",
              "      <th>minimum_nights</th>\n",
              "      <th>number_of_reviews</th>\n",
              "      <th>last_review</th>\n",
              "      <th>reviews_per_month</th>\n",
              "      <th>calculated_host_listings_count</th>\n",
              "      <th>availability_365</th>\n",
              "      <th>number_of_reviews_ltm</th>\n",
              "      <th>license</th>\n",
              "    </tr>\n",
              "  </thead>\n",
              "  <tbody>\n",
              "    <tr>\n",
              "      <th>0</th>\n",
              "      <td>19091</td>\n",
              "      <td>Rental unit in New Orleans · ★4.89 · 1 bedroom...</td>\n",
              "      <td>72880</td>\n",
              "      <td>John</td>\n",
              "      <td>NaN</td>\n",
              "      <td>Leonidas</td>\n",
              "      <td>29.96100</td>\n",
              "      <td>-90.11950</td>\n",
              "      <td>Entire home/apt</td>\n",
              "      <td>60</td>\n",
              "      <td>1</td>\n",
              "      <td>503</td>\n",
              "      <td>2023-11-06</td>\n",
              "      <td>3.03</td>\n",
              "      <td>1</td>\n",
              "      <td>0</td>\n",
              "      <td>7</td>\n",
              "      <td>22-RSTR-14107, 22-OSTR-14105</td>\n",
              "    </tr>\n",
              "    <tr>\n",
              "      <th>1</th>\n",
              "      <td>71624</td>\n",
              "      <td>Rental unit in New Orleans · ★4.94 · 1 bedroom...</td>\n",
              "      <td>367223</td>\n",
              "      <td>Susan</td>\n",
              "      <td>NaN</td>\n",
              "      <td>Bywater</td>\n",
              "      <td>29.96153</td>\n",
              "      <td>-90.04364</td>\n",
              "      <td>Entire home/apt</td>\n",
              "      <td>150</td>\n",
              "      <td>3</td>\n",
              "      <td>293</td>\n",
              "      <td>2023-10-23</td>\n",
              "      <td>1.88</td>\n",
              "      <td>1</td>\n",
              "      <td>336</td>\n",
              "      <td>17</td>\n",
              "      <td>21-RSTR-18609, 22-OSTR-20720</td>\n",
              "    </tr>\n",
              "    <tr>\n",
              "      <th>2</th>\n",
              "      <td>74498</td>\n",
              "      <td>Rental unit in New Orleans · ★4.90 · 1 bedroom...</td>\n",
              "      <td>391462</td>\n",
              "      <td>Georgia</td>\n",
              "      <td>NaN</td>\n",
              "      <td>St. Roch</td>\n",
              "      <td>29.96986</td>\n",
              "      <td>-90.05172</td>\n",
              "      <td>Entire home/apt</td>\n",
              "      <td>91</td>\n",
              "      <td>3</td>\n",
              "      <td>603</td>\n",
              "      <td>2023-11-19</td>\n",
              "      <td>3.89</td>\n",
              "      <td>3</td>\n",
              "      <td>237</td>\n",
              "      <td>40</td>\n",
              "      <td>Exempt: This listing is a licensed hotel, mote...</td>\n",
              "    </tr>\n",
              "  </tbody>\n",
              "</table>\n",
              "</div>\n",
              "    <div class=\"colab-df-buttons\">\n",
              "\n",
              "  <div class=\"colab-df-container\">\n",
              "    <button class=\"colab-df-convert\" onclick=\"convertToInteractive('df-c611503b-5ec6-4d62-9d86-b8fdf1c6e380')\"\n",
              "            title=\"Convert this dataframe to an interactive table.\"\n",
              "            style=\"display:none;\">\n",
              "\n",
              "  <svg xmlns=\"http://www.w3.org/2000/svg\" height=\"24px\" viewBox=\"0 -960 960 960\">\n",
              "    <path d=\"M120-120v-720h720v720H120Zm60-500h600v-160H180v160Zm220 220h160v-160H400v160Zm0 220h160v-160H400v160ZM180-400h160v-160H180v160Zm440 0h160v-160H620v160ZM180-180h160v-160H180v160Zm440 0h160v-160H620v160Z\"/>\n",
              "  </svg>\n",
              "    </button>\n",
              "\n",
              "  <style>\n",
              "    .colab-df-container {\n",
              "      display:flex;\n",
              "      gap: 12px;\n",
              "    }\n",
              "\n",
              "    .colab-df-convert {\n",
              "      background-color: #E8F0FE;\n",
              "      border: none;\n",
              "      border-radius: 50%;\n",
              "      cursor: pointer;\n",
              "      display: none;\n",
              "      fill: #1967D2;\n",
              "      height: 32px;\n",
              "      padding: 0 0 0 0;\n",
              "      width: 32px;\n",
              "    }\n",
              "\n",
              "    .colab-df-convert:hover {\n",
              "      background-color: #E2EBFA;\n",
              "      box-shadow: 0px 1px 2px rgba(60, 64, 67, 0.3), 0px 1px 3px 1px rgba(60, 64, 67, 0.15);\n",
              "      fill: #174EA6;\n",
              "    }\n",
              "\n",
              "    .colab-df-buttons div {\n",
              "      margin-bottom: 4px;\n",
              "    }\n",
              "\n",
              "    [theme=dark] .colab-df-convert {\n",
              "      background-color: #3B4455;\n",
              "      fill: #D2E3FC;\n",
              "    }\n",
              "\n",
              "    [theme=dark] .colab-df-convert:hover {\n",
              "      background-color: #434B5C;\n",
              "      box-shadow: 0px 1px 3px 1px rgba(0, 0, 0, 0.15);\n",
              "      filter: drop-shadow(0px 1px 2px rgba(0, 0, 0, 0.3));\n",
              "      fill: #FFFFFF;\n",
              "    }\n",
              "  </style>\n",
              "\n",
              "    <script>\n",
              "      const buttonEl =\n",
              "        document.querySelector('#df-c611503b-5ec6-4d62-9d86-b8fdf1c6e380 button.colab-df-convert');\n",
              "      buttonEl.style.display =\n",
              "        google.colab.kernel.accessAllowed ? 'block' : 'none';\n",
              "\n",
              "      async function convertToInteractive(key) {\n",
              "        const element = document.querySelector('#df-c611503b-5ec6-4d62-9d86-b8fdf1c6e380');\n",
              "        const dataTable =\n",
              "          await google.colab.kernel.invokeFunction('convertToInteractive',\n",
              "                                                    [key], {});\n",
              "        if (!dataTable) return;\n",
              "\n",
              "        const docLinkHtml = 'Like what you see? Visit the ' +\n",
              "          '<a target=\"_blank\" href=https://colab.research.google.com/notebooks/data_table.ipynb>data table notebook</a>'\n",
              "          + ' to learn more about interactive tables.';\n",
              "        element.innerHTML = '';\n",
              "        dataTable['output_type'] = 'display_data';\n",
              "        await google.colab.output.renderOutput(dataTable, element);\n",
              "        const docLink = document.createElement('div');\n",
              "        docLink.innerHTML = docLinkHtml;\n",
              "        element.appendChild(docLink);\n",
              "      }\n",
              "    </script>\n",
              "  </div>\n",
              "\n",
              "\n",
              "<div id=\"df-2fc0f73b-ec71-498d-985e-8b0d051b6117\">\n",
              "  <button class=\"colab-df-quickchart\" onclick=\"quickchart('df-2fc0f73b-ec71-498d-985e-8b0d051b6117')\"\n",
              "            title=\"Suggest charts\"\n",
              "            style=\"display:none;\">\n",
              "\n",
              "<svg xmlns=\"http://www.w3.org/2000/svg\" height=\"24px\"viewBox=\"0 0 24 24\"\n",
              "     width=\"24px\">\n",
              "    <g>\n",
              "        <path d=\"M19 3H5c-1.1 0-2 .9-2 2v14c0 1.1.9 2 2 2h14c1.1 0 2-.9 2-2V5c0-1.1-.9-2-2-2zM9 17H7v-7h2v7zm4 0h-2V7h2v10zm4 0h-2v-4h2v4z\"/>\n",
              "    </g>\n",
              "</svg>\n",
              "  </button>\n",
              "\n",
              "<style>\n",
              "  .colab-df-quickchart {\n",
              "      --bg-color: #E8F0FE;\n",
              "      --fill-color: #1967D2;\n",
              "      --hover-bg-color: #E2EBFA;\n",
              "      --hover-fill-color: #174EA6;\n",
              "      --disabled-fill-color: #AAA;\n",
              "      --disabled-bg-color: #DDD;\n",
              "  }\n",
              "\n",
              "  [theme=dark] .colab-df-quickchart {\n",
              "      --bg-color: #3B4455;\n",
              "      --fill-color: #D2E3FC;\n",
              "      --hover-bg-color: #434B5C;\n",
              "      --hover-fill-color: #FFFFFF;\n",
              "      --disabled-bg-color: #3B4455;\n",
              "      --disabled-fill-color: #666;\n",
              "  }\n",
              "\n",
              "  .colab-df-quickchart {\n",
              "    background-color: var(--bg-color);\n",
              "    border: none;\n",
              "    border-radius: 50%;\n",
              "    cursor: pointer;\n",
              "    display: none;\n",
              "    fill: var(--fill-color);\n",
              "    height: 32px;\n",
              "    padding: 0;\n",
              "    width: 32px;\n",
              "  }\n",
              "\n",
              "  .colab-df-quickchart:hover {\n",
              "    background-color: var(--hover-bg-color);\n",
              "    box-shadow: 0 1px 2px rgba(60, 64, 67, 0.3), 0 1px 3px 1px rgba(60, 64, 67, 0.15);\n",
              "    fill: var(--button-hover-fill-color);\n",
              "  }\n",
              "\n",
              "  .colab-df-quickchart-complete:disabled,\n",
              "  .colab-df-quickchart-complete:disabled:hover {\n",
              "    background-color: var(--disabled-bg-color);\n",
              "    fill: var(--disabled-fill-color);\n",
              "    box-shadow: none;\n",
              "  }\n",
              "\n",
              "  .colab-df-spinner {\n",
              "    border: 2px solid var(--fill-color);\n",
              "    border-color: transparent;\n",
              "    border-bottom-color: var(--fill-color);\n",
              "    animation:\n",
              "      spin 1s steps(1) infinite;\n",
              "  }\n",
              "\n",
              "  @keyframes spin {\n",
              "    0% {\n",
              "      border-color: transparent;\n",
              "      border-bottom-color: var(--fill-color);\n",
              "      border-left-color: var(--fill-color);\n",
              "    }\n",
              "    20% {\n",
              "      border-color: transparent;\n",
              "      border-left-color: var(--fill-color);\n",
              "      border-top-color: var(--fill-color);\n",
              "    }\n",
              "    30% {\n",
              "      border-color: transparent;\n",
              "      border-left-color: var(--fill-color);\n",
              "      border-top-color: var(--fill-color);\n",
              "      border-right-color: var(--fill-color);\n",
              "    }\n",
              "    40% {\n",
              "      border-color: transparent;\n",
              "      border-right-color: var(--fill-color);\n",
              "      border-top-color: var(--fill-color);\n",
              "    }\n",
              "    60% {\n",
              "      border-color: transparent;\n",
              "      border-right-color: var(--fill-color);\n",
              "    }\n",
              "    80% {\n",
              "      border-color: transparent;\n",
              "      border-right-color: var(--fill-color);\n",
              "      border-bottom-color: var(--fill-color);\n",
              "    }\n",
              "    90% {\n",
              "      border-color: transparent;\n",
              "      border-bottom-color: var(--fill-color);\n",
              "    }\n",
              "  }\n",
              "</style>\n",
              "\n",
              "  <script>\n",
              "    async function quickchart(key) {\n",
              "      const quickchartButtonEl =\n",
              "        document.querySelector('#' + key + ' button');\n",
              "      quickchartButtonEl.disabled = true;  // To prevent multiple clicks.\n",
              "      quickchartButtonEl.classList.add('colab-df-spinner');\n",
              "      try {\n",
              "        const charts = await google.colab.kernel.invokeFunction(\n",
              "            'suggestCharts', [key], {});\n",
              "      } catch (error) {\n",
              "        console.error('Error during call to suggestCharts:', error);\n",
              "      }\n",
              "      quickchartButtonEl.classList.remove('colab-df-spinner');\n",
              "      quickchartButtonEl.classList.add('colab-df-quickchart-complete');\n",
              "    }\n",
              "    (() => {\n",
              "      let quickchartButtonEl =\n",
              "        document.querySelector('#df-2fc0f73b-ec71-498d-985e-8b0d051b6117 button');\n",
              "      quickchartButtonEl.style.display =\n",
              "        google.colab.kernel.accessAllowed ? 'block' : 'none';\n",
              "    })();\n",
              "  </script>\n",
              "</div>\n",
              "\n",
              "    </div>\n",
              "  </div>\n"
            ]
          },
          "metadata": {},
          "execution_count": 5
        }
      ]
    },
    {
      "cell_type": "code",
      "source": [
        "df_new_orl.shape"
      ],
      "metadata": {
        "colab": {
          "base_uri": "https://localhost:8080/"
        },
        "id": "UmrkgLq0ZCAb",
        "outputId": "34f0b37a-920c-4260-aaa7-70b9d5b1ce94"
      },
      "execution_count": 6,
      "outputs": [
        {
          "output_type": "execute_result",
          "data": {
            "text/plain": [
              "(7075, 18)"
            ]
          },
          "metadata": {},
          "execution_count": 6
        }
      ]
    },
    {
      "cell_type": "markdown",
      "source": [
        "# creating 'city' columns\n",
        "\n",
        "for when we merge these 2 datasets"
      ],
      "metadata": {
        "id": "ajlBHcOhApSC"
      }
    },
    {
      "cell_type": "code",
      "source": [
        "df_chicago['city'] = 'chicago'\n",
        "\n",
        "df_new_orl['city'] = 'new orleans'"
      ],
      "metadata": {
        "id": "6s2Aha5DjeUh"
      },
      "execution_count": 7,
      "outputs": []
    },
    {
      "cell_type": "markdown",
      "source": [
        "# Combining 2 datasets into a single 1"
      ],
      "metadata": {
        "id": "gPT8CPoHDPN-"
      }
    },
    {
      "cell_type": "code",
      "source": [
        "df = pd.concat([df_chicago, df_new_orl])"
      ],
      "metadata": {
        "id": "T9xgi0EgCfTh"
      },
      "execution_count": 8,
      "outputs": []
    },
    {
      "cell_type": "code",
      "source": [
        "df.shape"
      ],
      "metadata": {
        "colab": {
          "base_uri": "https://localhost:8080/"
        },
        "id": "kINsDr2umXXA",
        "outputId": "8252b407-8552-4396-b412-e0eb1c96ef26"
      },
      "execution_count": 9,
      "outputs": [
        {
          "output_type": "execute_result",
          "data": {
            "text/plain": [
              "(15603, 19)"
            ]
          },
          "metadata": {},
          "execution_count": 9
        }
      ]
    },
    {
      "cell_type": "code",
      "source": [
        "df.head(2)"
      ],
      "metadata": {
        "colab": {
          "base_uri": "https://localhost:8080/",
          "height": 358
        },
        "id": "4kR89lqsgvJT",
        "outputId": "dfb40657-9430-4dba-b847-4e8d895b4d0a"
      },
      "execution_count": 10,
      "outputs": [
        {
          "output_type": "execute_result",
          "data": {
            "text/plain": [
              "     id                                               name  host_id host_name  \\\n",
              "0  2384  Condo in Chicago · ★4.99 · 1 bedroom · 1 bed ·...     2613   Rebecca   \n",
              "1  7126  Rental unit in Chicago · ★4.70 · 1 bedroom · 1...    17928     Sarah   \n",
              "\n",
              "   neighbourhood_group neighbourhood  latitude  longitude        room_type  \\\n",
              "0                  NaN     Hyde Park  41.78790  -87.58780     Private room   \n",
              "1                  NaN     West Town  41.90166  -87.68021  Entire home/apt   \n",
              "\n",
              "   price  minimum_nights  number_of_reviews last_review  reviews_per_month  \\\n",
              "0    114               3                227  2023-09-03               2.15   \n",
              "1     92              32                505  2023-08-30               2.92   \n",
              "\n",
              "   calculated_host_listings_count  availability_365  number_of_reviews_ltm  \\\n",
              "0                               1               322                     20   \n",
              "1                               1               347                     45   \n",
              "\n",
              "        license     city  \n",
              "0  R17000015609  chicago  \n",
              "1  R21000075737  chicago  "
            ],
            "text/html": [
              "\n",
              "  <div id=\"df-2faed299-89a2-4c25-9b5e-29f3f286d5ee\" class=\"colab-df-container\">\n",
              "    <div>\n",
              "<style scoped>\n",
              "    .dataframe tbody tr th:only-of-type {\n",
              "        vertical-align: middle;\n",
              "    }\n",
              "\n",
              "    .dataframe tbody tr th {\n",
              "        vertical-align: top;\n",
              "    }\n",
              "\n",
              "    .dataframe thead th {\n",
              "        text-align: right;\n",
              "    }\n",
              "</style>\n",
              "<table border=\"1\" class=\"dataframe\">\n",
              "  <thead>\n",
              "    <tr style=\"text-align: right;\">\n",
              "      <th></th>\n",
              "      <th>id</th>\n",
              "      <th>name</th>\n",
              "      <th>host_id</th>\n",
              "      <th>host_name</th>\n",
              "      <th>neighbourhood_group</th>\n",
              "      <th>neighbourhood</th>\n",
              "      <th>latitude</th>\n",
              "      <th>longitude</th>\n",
              "      <th>room_type</th>\n",
              "      <th>price</th>\n",
              "      <th>minimum_nights</th>\n",
              "      <th>number_of_reviews</th>\n",
              "      <th>last_review</th>\n",
              "      <th>reviews_per_month</th>\n",
              "      <th>calculated_host_listings_count</th>\n",
              "      <th>availability_365</th>\n",
              "      <th>number_of_reviews_ltm</th>\n",
              "      <th>license</th>\n",
              "      <th>city</th>\n",
              "    </tr>\n",
              "  </thead>\n",
              "  <tbody>\n",
              "    <tr>\n",
              "      <th>0</th>\n",
              "      <td>2384</td>\n",
              "      <td>Condo in Chicago · ★4.99 · 1 bedroom · 1 bed ·...</td>\n",
              "      <td>2613</td>\n",
              "      <td>Rebecca</td>\n",
              "      <td>NaN</td>\n",
              "      <td>Hyde Park</td>\n",
              "      <td>41.78790</td>\n",
              "      <td>-87.58780</td>\n",
              "      <td>Private room</td>\n",
              "      <td>114</td>\n",
              "      <td>3</td>\n",
              "      <td>227</td>\n",
              "      <td>2023-09-03</td>\n",
              "      <td>2.15</td>\n",
              "      <td>1</td>\n",
              "      <td>322</td>\n",
              "      <td>20</td>\n",
              "      <td>R17000015609</td>\n",
              "      <td>chicago</td>\n",
              "    </tr>\n",
              "    <tr>\n",
              "      <th>1</th>\n",
              "      <td>7126</td>\n",
              "      <td>Rental unit in Chicago · ★4.70 · 1 bedroom · 1...</td>\n",
              "      <td>17928</td>\n",
              "      <td>Sarah</td>\n",
              "      <td>NaN</td>\n",
              "      <td>West Town</td>\n",
              "      <td>41.90166</td>\n",
              "      <td>-87.68021</td>\n",
              "      <td>Entire home/apt</td>\n",
              "      <td>92</td>\n",
              "      <td>32</td>\n",
              "      <td>505</td>\n",
              "      <td>2023-08-30</td>\n",
              "      <td>2.92</td>\n",
              "      <td>1</td>\n",
              "      <td>347</td>\n",
              "      <td>45</td>\n",
              "      <td>R21000075737</td>\n",
              "      <td>chicago</td>\n",
              "    </tr>\n",
              "  </tbody>\n",
              "</table>\n",
              "</div>\n",
              "    <div class=\"colab-df-buttons\">\n",
              "\n",
              "  <div class=\"colab-df-container\">\n",
              "    <button class=\"colab-df-convert\" onclick=\"convertToInteractive('df-2faed299-89a2-4c25-9b5e-29f3f286d5ee')\"\n",
              "            title=\"Convert this dataframe to an interactive table.\"\n",
              "            style=\"display:none;\">\n",
              "\n",
              "  <svg xmlns=\"http://www.w3.org/2000/svg\" height=\"24px\" viewBox=\"0 -960 960 960\">\n",
              "    <path d=\"M120-120v-720h720v720H120Zm60-500h600v-160H180v160Zm220 220h160v-160H400v160Zm0 220h160v-160H400v160ZM180-400h160v-160H180v160Zm440 0h160v-160H620v160ZM180-180h160v-160H180v160Zm440 0h160v-160H620v160Z\"/>\n",
              "  </svg>\n",
              "    </button>\n",
              "\n",
              "  <style>\n",
              "    .colab-df-container {\n",
              "      display:flex;\n",
              "      gap: 12px;\n",
              "    }\n",
              "\n",
              "    .colab-df-convert {\n",
              "      background-color: #E8F0FE;\n",
              "      border: none;\n",
              "      border-radius: 50%;\n",
              "      cursor: pointer;\n",
              "      display: none;\n",
              "      fill: #1967D2;\n",
              "      height: 32px;\n",
              "      padding: 0 0 0 0;\n",
              "      width: 32px;\n",
              "    }\n",
              "\n",
              "    .colab-df-convert:hover {\n",
              "      background-color: #E2EBFA;\n",
              "      box-shadow: 0px 1px 2px rgba(60, 64, 67, 0.3), 0px 1px 3px 1px rgba(60, 64, 67, 0.15);\n",
              "      fill: #174EA6;\n",
              "    }\n",
              "\n",
              "    .colab-df-buttons div {\n",
              "      margin-bottom: 4px;\n",
              "    }\n",
              "\n",
              "    [theme=dark] .colab-df-convert {\n",
              "      background-color: #3B4455;\n",
              "      fill: #D2E3FC;\n",
              "    }\n",
              "\n",
              "    [theme=dark] .colab-df-convert:hover {\n",
              "      background-color: #434B5C;\n",
              "      box-shadow: 0px 1px 3px 1px rgba(0, 0, 0, 0.15);\n",
              "      filter: drop-shadow(0px 1px 2px rgba(0, 0, 0, 0.3));\n",
              "      fill: #FFFFFF;\n",
              "    }\n",
              "  </style>\n",
              "\n",
              "    <script>\n",
              "      const buttonEl =\n",
              "        document.querySelector('#df-2faed299-89a2-4c25-9b5e-29f3f286d5ee button.colab-df-convert');\n",
              "      buttonEl.style.display =\n",
              "        google.colab.kernel.accessAllowed ? 'block' : 'none';\n",
              "\n",
              "      async function convertToInteractive(key) {\n",
              "        const element = document.querySelector('#df-2faed299-89a2-4c25-9b5e-29f3f286d5ee');\n",
              "        const dataTable =\n",
              "          await google.colab.kernel.invokeFunction('convertToInteractive',\n",
              "                                                    [key], {});\n",
              "        if (!dataTable) return;\n",
              "\n",
              "        const docLinkHtml = 'Like what you see? Visit the ' +\n",
              "          '<a target=\"_blank\" href=https://colab.research.google.com/notebooks/data_table.ipynb>data table notebook</a>'\n",
              "          + ' to learn more about interactive tables.';\n",
              "        element.innerHTML = '';\n",
              "        dataTable['output_type'] = 'display_data';\n",
              "        await google.colab.output.renderOutput(dataTable, element);\n",
              "        const docLink = document.createElement('div');\n",
              "        docLink.innerHTML = docLinkHtml;\n",
              "        element.appendChild(docLink);\n",
              "      }\n",
              "    </script>\n",
              "  </div>\n",
              "\n",
              "\n",
              "<div id=\"df-bb93d323-f3d0-4fa2-a225-d334b8816f2f\">\n",
              "  <button class=\"colab-df-quickchart\" onclick=\"quickchart('df-bb93d323-f3d0-4fa2-a225-d334b8816f2f')\"\n",
              "            title=\"Suggest charts\"\n",
              "            style=\"display:none;\">\n",
              "\n",
              "<svg xmlns=\"http://www.w3.org/2000/svg\" height=\"24px\"viewBox=\"0 0 24 24\"\n",
              "     width=\"24px\">\n",
              "    <g>\n",
              "        <path d=\"M19 3H5c-1.1 0-2 .9-2 2v14c0 1.1.9 2 2 2h14c1.1 0 2-.9 2-2V5c0-1.1-.9-2-2-2zM9 17H7v-7h2v7zm4 0h-2V7h2v10zm4 0h-2v-4h2v4z\"/>\n",
              "    </g>\n",
              "</svg>\n",
              "  </button>\n",
              "\n",
              "<style>\n",
              "  .colab-df-quickchart {\n",
              "      --bg-color: #E8F0FE;\n",
              "      --fill-color: #1967D2;\n",
              "      --hover-bg-color: #E2EBFA;\n",
              "      --hover-fill-color: #174EA6;\n",
              "      --disabled-fill-color: #AAA;\n",
              "      --disabled-bg-color: #DDD;\n",
              "  }\n",
              "\n",
              "  [theme=dark] .colab-df-quickchart {\n",
              "      --bg-color: #3B4455;\n",
              "      --fill-color: #D2E3FC;\n",
              "      --hover-bg-color: #434B5C;\n",
              "      --hover-fill-color: #FFFFFF;\n",
              "      --disabled-bg-color: #3B4455;\n",
              "      --disabled-fill-color: #666;\n",
              "  }\n",
              "\n",
              "  .colab-df-quickchart {\n",
              "    background-color: var(--bg-color);\n",
              "    border: none;\n",
              "    border-radius: 50%;\n",
              "    cursor: pointer;\n",
              "    display: none;\n",
              "    fill: var(--fill-color);\n",
              "    height: 32px;\n",
              "    padding: 0;\n",
              "    width: 32px;\n",
              "  }\n",
              "\n",
              "  .colab-df-quickchart:hover {\n",
              "    background-color: var(--hover-bg-color);\n",
              "    box-shadow: 0 1px 2px rgba(60, 64, 67, 0.3), 0 1px 3px 1px rgba(60, 64, 67, 0.15);\n",
              "    fill: var(--button-hover-fill-color);\n",
              "  }\n",
              "\n",
              "  .colab-df-quickchart-complete:disabled,\n",
              "  .colab-df-quickchart-complete:disabled:hover {\n",
              "    background-color: var(--disabled-bg-color);\n",
              "    fill: var(--disabled-fill-color);\n",
              "    box-shadow: none;\n",
              "  }\n",
              "\n",
              "  .colab-df-spinner {\n",
              "    border: 2px solid var(--fill-color);\n",
              "    border-color: transparent;\n",
              "    border-bottom-color: var(--fill-color);\n",
              "    animation:\n",
              "      spin 1s steps(1) infinite;\n",
              "  }\n",
              "\n",
              "  @keyframes spin {\n",
              "    0% {\n",
              "      border-color: transparent;\n",
              "      border-bottom-color: var(--fill-color);\n",
              "      border-left-color: var(--fill-color);\n",
              "    }\n",
              "    20% {\n",
              "      border-color: transparent;\n",
              "      border-left-color: var(--fill-color);\n",
              "      border-top-color: var(--fill-color);\n",
              "    }\n",
              "    30% {\n",
              "      border-color: transparent;\n",
              "      border-left-color: var(--fill-color);\n",
              "      border-top-color: var(--fill-color);\n",
              "      border-right-color: var(--fill-color);\n",
              "    }\n",
              "    40% {\n",
              "      border-color: transparent;\n",
              "      border-right-color: var(--fill-color);\n",
              "      border-top-color: var(--fill-color);\n",
              "    }\n",
              "    60% {\n",
              "      border-color: transparent;\n",
              "      border-right-color: var(--fill-color);\n",
              "    }\n",
              "    80% {\n",
              "      border-color: transparent;\n",
              "      border-right-color: var(--fill-color);\n",
              "      border-bottom-color: var(--fill-color);\n",
              "    }\n",
              "    90% {\n",
              "      border-color: transparent;\n",
              "      border-bottom-color: var(--fill-color);\n",
              "    }\n",
              "  }\n",
              "</style>\n",
              "\n",
              "  <script>\n",
              "    async function quickchart(key) {\n",
              "      const quickchartButtonEl =\n",
              "        document.querySelector('#' + key + ' button');\n",
              "      quickchartButtonEl.disabled = true;  // To prevent multiple clicks.\n",
              "      quickchartButtonEl.classList.add('colab-df-spinner');\n",
              "      try {\n",
              "        const charts = await google.colab.kernel.invokeFunction(\n",
              "            'suggestCharts', [key], {});\n",
              "      } catch (error) {\n",
              "        console.error('Error during call to suggestCharts:', error);\n",
              "      }\n",
              "      quickchartButtonEl.classList.remove('colab-df-spinner');\n",
              "      quickchartButtonEl.classList.add('colab-df-quickchart-complete');\n",
              "    }\n",
              "    (() => {\n",
              "      let quickchartButtonEl =\n",
              "        document.querySelector('#df-bb93d323-f3d0-4fa2-a225-d334b8816f2f button');\n",
              "      quickchartButtonEl.style.display =\n",
              "        google.colab.kernel.accessAllowed ? 'block' : 'none';\n",
              "    })();\n",
              "  </script>\n",
              "</div>\n",
              "\n",
              "    </div>\n",
              "  </div>\n"
            ]
          },
          "metadata": {},
          "execution_count": 10
        }
      ]
    },
    {
      "cell_type": "markdown",
      "source": [
        "![image.png](data:image/png;base64,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)"
      ],
      "metadata": {
        "id": "Cs_5rJXKExj5"
      }
    },
    {
      "cell_type": "code",
      "source": [
        "df.describe()"
      ],
      "metadata": {
        "colab": {
          "base_uri": "https://localhost:8080/",
          "height": 320
        },
        "id": "TUap50Sj-_UD",
        "outputId": "d2d9451e-6e68-4be8-8c25-f4bea4521d8b"
      },
      "execution_count": 39,
      "outputs": [
        {
          "output_type": "execute_result",
          "data": {
            "text/plain": [
              "                 id       host_id      latitude     longitude         price  \\\n",
              "count  1.560300e+04  1.560300e+04  15603.000000  15603.000000  15603.000000   \n",
              "mean   3.509038e+17  1.808865e+08     36.481026    -88.755594    202.532910   \n",
              "std    4.024449e+17  1.686068e+08      5.941259      1.201528    274.052339   \n",
              "min    2.384000e+03  9.710000e+02     29.897680    -90.137480     11.000000   \n",
              "25%    3.077330e+07  3.494929e+07     29.962925    -90.071617     91.000000   \n",
              "50%    5.171008e+07  1.110018e+08     41.789730    -87.720510    136.000000   \n",
              "75%    7.577271e+17  3.236647e+08     41.899680    -87.653583    224.000000   \n",
              "max    1.037102e+18  5.488747e+08     42.022200    -87.528420  10000.000000   \n",
              "\n",
              "       minimum_nights  number_of_reviews  reviews_per_month  \\\n",
              "count    15603.000000       15603.000000       15603.000000   \n",
              "mean        14.236493          54.042364           1.514939   \n",
              "std         32.826205          91.335301           1.943148   \n",
              "min          1.000000           0.000000           0.000000   \n",
              "25%          2.000000           2.000000           0.140000   \n",
              "50%          2.000000          19.000000           1.030000   \n",
              "75%         30.000000          69.000000           2.370000   \n",
              "max       1125.000000        3332.000000         108.100000   \n",
              "\n",
              "       calculated_host_listings_count  availability_365  number_of_reviews_ltm  \n",
              "count                    15603.000000      15603.000000           15603.000000  \n",
              "mean                        37.654361        191.137794              13.432994  \n",
              "std                        127.558515        131.045049              20.907354  \n",
              "min                          1.000000          0.000000               0.000000  \n",
              "25%                          1.000000         68.000000               0.000000  \n",
              "50%                          3.000000        185.000000               5.000000  \n",
              "75%                         15.000000        325.000000              22.000000  \n",
              "max                        645.000000        365.000000             684.000000  "
            ],
            "text/html": [
              "\n",
              "  <div id=\"df-399dff38-dfcb-4da0-b1ca-aad25f92851b\" class=\"colab-df-container\">\n",
              "    <div>\n",
              "<style scoped>\n",
              "    .dataframe tbody tr th:only-of-type {\n",
              "        vertical-align: middle;\n",
              "    }\n",
              "\n",
              "    .dataframe tbody tr th {\n",
              "        vertical-align: top;\n",
              "    }\n",
              "\n",
              "    .dataframe thead th {\n",
              "        text-align: right;\n",
              "    }\n",
              "</style>\n",
              "<table border=\"1\" class=\"dataframe\">\n",
              "  <thead>\n",
              "    <tr style=\"text-align: right;\">\n",
              "      <th></th>\n",
              "      <th>id</th>\n",
              "      <th>host_id</th>\n",
              "      <th>latitude</th>\n",
              "      <th>longitude</th>\n",
              "      <th>price</th>\n",
              "      <th>minimum_nights</th>\n",
              "      <th>number_of_reviews</th>\n",
              "      <th>reviews_per_month</th>\n",
              "      <th>calculated_host_listings_count</th>\n",
              "      <th>availability_365</th>\n",
              "      <th>number_of_reviews_ltm</th>\n",
              "    </tr>\n",
              "  </thead>\n",
              "  <tbody>\n",
              "    <tr>\n",
              "      <th>count</th>\n",
              "      <td>1.560300e+04</td>\n",
              "      <td>1.560300e+04</td>\n",
              "      <td>15603.000000</td>\n",
              "      <td>15603.000000</td>\n",
              "      <td>15603.000000</td>\n",
              "      <td>15603.000000</td>\n",
              "      <td>15603.000000</td>\n",
              "      <td>15603.000000</td>\n",
              "      <td>15603.000000</td>\n",
              "      <td>15603.000000</td>\n",
              "      <td>15603.000000</td>\n",
              "    </tr>\n",
              "    <tr>\n",
              "      <th>mean</th>\n",
              "      <td>3.509038e+17</td>\n",
              "      <td>1.808865e+08</td>\n",
              "      <td>36.481026</td>\n",
              "      <td>-88.755594</td>\n",
              "      <td>202.532910</td>\n",
              "      <td>14.236493</td>\n",
              "      <td>54.042364</td>\n",
              "      <td>1.514939</td>\n",
              "      <td>37.654361</td>\n",
              "      <td>191.137794</td>\n",
              "      <td>13.432994</td>\n",
              "    </tr>\n",
              "    <tr>\n",
              "      <th>std</th>\n",
              "      <td>4.024449e+17</td>\n",
              "      <td>1.686068e+08</td>\n",
              "      <td>5.941259</td>\n",
              "      <td>1.201528</td>\n",
              "      <td>274.052339</td>\n",
              "      <td>32.826205</td>\n",
              "      <td>91.335301</td>\n",
              "      <td>1.943148</td>\n",
              "      <td>127.558515</td>\n",
              "      <td>131.045049</td>\n",
              "      <td>20.907354</td>\n",
              "    </tr>\n",
              "    <tr>\n",
              "      <th>min</th>\n",
              "      <td>2.384000e+03</td>\n",
              "      <td>9.710000e+02</td>\n",
              "      <td>29.897680</td>\n",
              "      <td>-90.137480</td>\n",
              "      <td>11.000000</td>\n",
              "      <td>1.000000</td>\n",
              "      <td>0.000000</td>\n",
              "      <td>0.000000</td>\n",
              "      <td>1.000000</td>\n",
              "      <td>0.000000</td>\n",
              "      <td>0.000000</td>\n",
              "    </tr>\n",
              "    <tr>\n",
              "      <th>25%</th>\n",
              "      <td>3.077330e+07</td>\n",
              "      <td>3.494929e+07</td>\n",
              "      <td>29.962925</td>\n",
              "      <td>-90.071617</td>\n",
              "      <td>91.000000</td>\n",
              "      <td>2.000000</td>\n",
              "      <td>2.000000</td>\n",
              "      <td>0.140000</td>\n",
              "      <td>1.000000</td>\n",
              "      <td>68.000000</td>\n",
              "      <td>0.000000</td>\n",
              "    </tr>\n",
              "    <tr>\n",
              "      <th>50%</th>\n",
              "      <td>5.171008e+07</td>\n",
              "      <td>1.110018e+08</td>\n",
              "      <td>41.789730</td>\n",
              "      <td>-87.720510</td>\n",
              "      <td>136.000000</td>\n",
              "      <td>2.000000</td>\n",
              "      <td>19.000000</td>\n",
              "      <td>1.030000</td>\n",
              "      <td>3.000000</td>\n",
              "      <td>185.000000</td>\n",
              "      <td>5.000000</td>\n",
              "    </tr>\n",
              "    <tr>\n",
              "      <th>75%</th>\n",
              "      <td>7.577271e+17</td>\n",
              "      <td>3.236647e+08</td>\n",
              "      <td>41.899680</td>\n",
              "      <td>-87.653583</td>\n",
              "      <td>224.000000</td>\n",
              "      <td>30.000000</td>\n",
              "      <td>69.000000</td>\n",
              "      <td>2.370000</td>\n",
              "      <td>15.000000</td>\n",
              "      <td>325.000000</td>\n",
              "      <td>22.000000</td>\n",
              "    </tr>\n",
              "    <tr>\n",
              "      <th>max</th>\n",
              "      <td>1.037102e+18</td>\n",
              "      <td>5.488747e+08</td>\n",
              "      <td>42.022200</td>\n",
              "      <td>-87.528420</td>\n",
              "      <td>10000.000000</td>\n",
              "      <td>1125.000000</td>\n",
              "      <td>3332.000000</td>\n",
              "      <td>108.100000</td>\n",
              "      <td>645.000000</td>\n",
              "      <td>365.000000</td>\n",
              "      <td>684.000000</td>\n",
              "    </tr>\n",
              "  </tbody>\n",
              "</table>\n",
              "</div>\n",
              "    <div class=\"colab-df-buttons\">\n",
              "\n",
              "  <div class=\"colab-df-container\">\n",
              "    <button class=\"colab-df-convert\" onclick=\"convertToInteractive('df-399dff38-dfcb-4da0-b1ca-aad25f92851b')\"\n",
              "            title=\"Convert this dataframe to an interactive table.\"\n",
              "            style=\"display:none;\">\n",
              "\n",
              "  <svg xmlns=\"http://www.w3.org/2000/svg\" height=\"24px\" viewBox=\"0 -960 960 960\">\n",
              "    <path d=\"M120-120v-720h720v720H120Zm60-500h600v-160H180v160Zm220 220h160v-160H400v160Zm0 220h160v-160H400v160ZM180-400h160v-160H180v160Zm440 0h160v-160H620v160ZM180-180h160v-160H180v160Zm440 0h160v-160H620v160Z\"/>\n",
              "  </svg>\n",
              "    </button>\n",
              "\n",
              "  <style>\n",
              "    .colab-df-container {\n",
              "      display:flex;\n",
              "      gap: 12px;\n",
              "    }\n",
              "\n",
              "    .colab-df-convert {\n",
              "      background-color: #E8F0FE;\n",
              "      border: none;\n",
              "      border-radius: 50%;\n",
              "      cursor: pointer;\n",
              "      display: none;\n",
              "      fill: #1967D2;\n",
              "      height: 32px;\n",
              "      padding: 0 0 0 0;\n",
              "      width: 32px;\n",
              "    }\n",
              "\n",
              "    .colab-df-convert:hover {\n",
              "      background-color: #E2EBFA;\n",
              "      box-shadow: 0px 1px 2px rgba(60, 64, 67, 0.3), 0px 1px 3px 1px rgba(60, 64, 67, 0.15);\n",
              "      fill: #174EA6;\n",
              "    }\n",
              "\n",
              "    .colab-df-buttons div {\n",
              "      margin-bottom: 4px;\n",
              "    }\n",
              "\n",
              "    [theme=dark] .colab-df-convert {\n",
              "      background-color: #3B4455;\n",
              "      fill: #D2E3FC;\n",
              "    }\n",
              "\n",
              "    [theme=dark] .colab-df-convert:hover {\n",
              "      background-color: #434B5C;\n",
              "      box-shadow: 0px 1px 3px 1px rgba(0, 0, 0, 0.15);\n",
              "      filter: drop-shadow(0px 1px 2px rgba(0, 0, 0, 0.3));\n",
              "      fill: #FFFFFF;\n",
              "    }\n",
              "  </style>\n",
              "\n",
              "    <script>\n",
              "      const buttonEl =\n",
              "        document.querySelector('#df-399dff38-dfcb-4da0-b1ca-aad25f92851b button.colab-df-convert');\n",
              "      buttonEl.style.display =\n",
              "        google.colab.kernel.accessAllowed ? 'block' : 'none';\n",
              "\n",
              "      async function convertToInteractive(key) {\n",
              "        const element = document.querySelector('#df-399dff38-dfcb-4da0-b1ca-aad25f92851b');\n",
              "        const dataTable =\n",
              "          await google.colab.kernel.invokeFunction('convertToInteractive',\n",
              "                                                    [key], {});\n",
              "        if (!dataTable) return;\n",
              "\n",
              "        const docLinkHtml = 'Like what you see? Visit the ' +\n",
              "          '<a target=\"_blank\" href=https://colab.research.google.com/notebooks/data_table.ipynb>data table notebook</a>'\n",
              "          + ' to learn more about interactive tables.';\n",
              "        element.innerHTML = '';\n",
              "        dataTable['output_type'] = 'display_data';\n",
              "        await google.colab.output.renderOutput(dataTable, element);\n",
              "        const docLink = document.createElement('div');\n",
              "        docLink.innerHTML = docLinkHtml;\n",
              "        element.appendChild(docLink);\n",
              "      }\n",
              "    </script>\n",
              "  </div>\n",
              "\n",
              "\n",
              "<div id=\"df-f5a38d3a-a8b2-44d3-8770-cf93c6c367fd\">\n",
              "  <button class=\"colab-df-quickchart\" onclick=\"quickchart('df-f5a38d3a-a8b2-44d3-8770-cf93c6c367fd')\"\n",
              "            title=\"Suggest charts\"\n",
              "            style=\"display:none;\">\n",
              "\n",
              "<svg xmlns=\"http://www.w3.org/2000/svg\" height=\"24px\"viewBox=\"0 0 24 24\"\n",
              "     width=\"24px\">\n",
              "    <g>\n",
              "        <path d=\"M19 3H5c-1.1 0-2 .9-2 2v14c0 1.1.9 2 2 2h14c1.1 0 2-.9 2-2V5c0-1.1-.9-2-2-2zM9 17H7v-7h2v7zm4 0h-2V7h2v10zm4 0h-2v-4h2v4z\"/>\n",
              "    </g>\n",
              "</svg>\n",
              "  </button>\n",
              "\n",
              "<style>\n",
              "  .colab-df-quickchart {\n",
              "      --bg-color: #E8F0FE;\n",
              "      --fill-color: #1967D2;\n",
              "      --hover-bg-color: #E2EBFA;\n",
              "      --hover-fill-color: #174EA6;\n",
              "      --disabled-fill-color: #AAA;\n",
              "      --disabled-bg-color: #DDD;\n",
              "  }\n",
              "\n",
              "  [theme=dark] .colab-df-quickchart {\n",
              "      --bg-color: #3B4455;\n",
              "      --fill-color: #D2E3FC;\n",
              "      --hover-bg-color: #434B5C;\n",
              "      --hover-fill-color: #FFFFFF;\n",
              "      --disabled-bg-color: #3B4455;\n",
              "      --disabled-fill-color: #666;\n",
              "  }\n",
              "\n",
              "  .colab-df-quickchart {\n",
              "    background-color: var(--bg-color);\n",
              "    border: none;\n",
              "    border-radius: 50%;\n",
              "    cursor: pointer;\n",
              "    display: none;\n",
              "    fill: var(--fill-color);\n",
              "    height: 32px;\n",
              "    padding: 0;\n",
              "    width: 32px;\n",
              "  }\n",
              "\n",
              "  .colab-df-quickchart:hover {\n",
              "    background-color: var(--hover-bg-color);\n",
              "    box-shadow: 0 1px 2px rgba(60, 64, 67, 0.3), 0 1px 3px 1px rgba(60, 64, 67, 0.15);\n",
              "    fill: var(--button-hover-fill-color);\n",
              "  }\n",
              "\n",
              "  .colab-df-quickchart-complete:disabled,\n",
              "  .colab-df-quickchart-complete:disabled:hover {\n",
              "    background-color: var(--disabled-bg-color);\n",
              "    fill: var(--disabled-fill-color);\n",
              "    box-shadow: none;\n",
              "  }\n",
              "\n",
              "  .colab-df-spinner {\n",
              "    border: 2px solid var(--fill-color);\n",
              "    border-color: transparent;\n",
              "    border-bottom-color: var(--fill-color);\n",
              "    animation:\n",
              "      spin 1s steps(1) infinite;\n",
              "  }\n",
              "\n",
              "  @keyframes spin {\n",
              "    0% {\n",
              "      border-color: transparent;\n",
              "      border-bottom-color: var(--fill-color);\n",
              "      border-left-color: var(--fill-color);\n",
              "    }\n",
              "    20% {\n",
              "      border-color: transparent;\n",
              "      border-left-color: var(--fill-color);\n",
              "      border-top-color: var(--fill-color);\n",
              "    }\n",
              "    30% {\n",
              "      border-color: transparent;\n",
              "      border-left-color: var(--fill-color);\n",
              "      border-top-color: var(--fill-color);\n",
              "      border-right-color: var(--fill-color);\n",
              "    }\n",
              "    40% {\n",
              "      border-color: transparent;\n",
              "      border-right-color: var(--fill-color);\n",
              "      border-top-color: var(--fill-color);\n",
              "    }\n",
              "    60% {\n",
              "      border-color: transparent;\n",
              "      border-right-color: var(--fill-color);\n",
              "    }\n",
              "    80% {\n",
              "      border-color: transparent;\n",
              "      border-right-color: var(--fill-color);\n",
              "      border-bottom-color: var(--fill-color);\n",
              "    }\n",
              "    90% {\n",
              "      border-color: transparent;\n",
              "      border-bottom-color: var(--fill-color);\n",
              "    }\n",
              "  }\n",
              "</style>\n",
              "\n",
              "  <script>\n",
              "    async function quickchart(key) {\n",
              "      const quickchartButtonEl =\n",
              "        document.querySelector('#' + key + ' button');\n",
              "      quickchartButtonEl.disabled = true;  // To prevent multiple clicks.\n",
              "      quickchartButtonEl.classList.add('colab-df-spinner');\n",
              "      try {\n",
              "        const charts = await google.colab.kernel.invokeFunction(\n",
              "            'suggestCharts', [key], {});\n",
              "      } catch (error) {\n",
              "        console.error('Error during call to suggestCharts:', error);\n",
              "      }\n",
              "      quickchartButtonEl.classList.remove('colab-df-spinner');\n",
              "      quickchartButtonEl.classList.add('colab-df-quickchart-complete');\n",
              "    }\n",
              "    (() => {\n",
              "      let quickchartButtonEl =\n",
              "        document.querySelector('#df-f5a38d3a-a8b2-44d3-8770-cf93c6c367fd button');\n",
              "      quickchartButtonEl.style.display =\n",
              "        google.colab.kernel.accessAllowed ? 'block' : 'none';\n",
              "    })();\n",
              "  </script>\n",
              "</div>\n",
              "\n",
              "    </div>\n",
              "  </div>\n"
            ]
          },
          "metadata": {},
          "execution_count": 39
        }
      ]
    },
    {
      "cell_type": "code",
      "source": [
        "df.describe(include = 'all')"
      ],
      "metadata": {
        "colab": {
          "base_uri": "https://localhost:8080/",
          "height": 518
        },
        "id": "lyXP7j24-lW5",
        "outputId": "868a723f-4195-4349-c026-befad55378ee"
      },
      "execution_count": 12,
      "outputs": [
        {
          "output_type": "execute_result",
          "data": {
            "text/plain": [
              "                  id                                               name  \\\n",
              "count   1.560300e+04                                              15603   \n",
              "unique           NaN                                               7368   \n",
              "top              NaN  Rental unit in Chicago · 1 bedroom · 1 bed · 1...   \n",
              "freq             NaN                                                543   \n",
              "mean    3.509038e+17                                                NaN   \n",
              "std     4.024449e+17                                                NaN   \n",
              "min     2.384000e+03                                                NaN   \n",
              "25%     3.077330e+07                                                NaN   \n",
              "50%     5.171008e+07                                                NaN   \n",
              "75%     7.577271e+17                                                NaN   \n",
              "max     1.037102e+18                                                NaN   \n",
              "\n",
              "             host_id   host_name  neighbourhood_group    neighbourhood  \\\n",
              "count   1.560300e+04       15603                  0.0            15603   \n",
              "unique           NaN        3329                  NaN              144   \n",
              "top              NaN  Blueground                  NaN  Near North Side   \n",
              "freq             NaN         645                  NaN             1038   \n",
              "mean    1.808865e+08         NaN                  NaN              NaN   \n",
              "std     1.686068e+08         NaN                  NaN              NaN   \n",
              "min     9.710000e+02         NaN                  NaN              NaN   \n",
              "25%     3.494929e+07         NaN                  NaN              NaN   \n",
              "50%     1.110018e+08         NaN                  NaN              NaN   \n",
              "75%     3.236647e+08         NaN                  NaN              NaN   \n",
              "max     5.488747e+08         NaN                  NaN              NaN   \n",
              "\n",
              "            latitude     longitude        room_type         price  \\\n",
              "count   15603.000000  15603.000000            15603  15603.000000   \n",
              "unique           NaN           NaN                4           NaN   \n",
              "top              NaN           NaN  Entire home/apt           NaN   \n",
              "freq             NaN           NaN            12644           NaN   \n",
              "mean       36.481026    -88.755594              NaN    202.532910   \n",
              "std         5.941259      1.201528              NaN    274.052339   \n",
              "min        29.897680    -90.137480              NaN     11.000000   \n",
              "25%        29.962925    -90.071617              NaN     91.000000   \n",
              "50%        41.789730    -87.720510              NaN    136.000000   \n",
              "75%        41.899680    -87.653583              NaN    224.000000   \n",
              "max        42.022200    -87.528420              NaN  10000.000000   \n",
              "\n",
              "        minimum_nights  number_of_reviews last_review  reviews_per_month  \\\n",
              "count     15603.000000       15603.000000       12808       12808.000000   \n",
              "unique             NaN                NaN        1313                NaN   \n",
              "top                NaN                NaN  2023-09-04                NaN   \n",
              "freq               NaN                NaN         597                NaN   \n",
              "mean         14.236493          54.042364         NaN           1.845533   \n",
              "std          32.826205          91.335301         NaN           1.997420   \n",
              "min           1.000000           0.000000         NaN           0.010000   \n",
              "25%           2.000000           2.000000         NaN           0.557500   \n",
              "50%           2.000000          19.000000         NaN           1.500000   \n",
              "75%          30.000000          69.000000         NaN           2.690000   \n",
              "max        1125.000000        3332.000000         NaN         108.100000   \n",
              "\n",
              "        calculated_host_listings_count  availability_365  \\\n",
              "count                     15603.000000      15603.000000   \n",
              "unique                             NaN               NaN   \n",
              "top                                NaN               NaN   \n",
              "freq                               NaN               NaN   \n",
              "mean                         37.654361        191.137794   \n",
              "std                         127.558515        131.045049   \n",
              "min                           1.000000          0.000000   \n",
              "25%                           1.000000         68.000000   \n",
              "50%                           3.000000        185.000000   \n",
              "75%                          15.000000        325.000000   \n",
              "max                         645.000000        365.000000   \n",
              "\n",
              "        number_of_reviews_ltm  \\\n",
              "count            15603.000000   \n",
              "unique                    NaN   \n",
              "top                       NaN   \n",
              "freq                      NaN   \n",
              "mean                13.432994   \n",
              "std                 20.907354   \n",
              "min                  0.000000   \n",
              "25%                  0.000000   \n",
              "50%                  5.000000   \n",
              "75%                 22.000000   \n",
              "max                684.000000   \n",
              "\n",
              "                                                  license     city  \n",
              "count                                               12843    15603  \n",
              "unique                                               8347        2  \n",
              "top     Exempt: This listing is a licensed hotel, mote...  chicago  \n",
              "freq                                                 1322     8528  \n",
              "mean                                                  NaN      NaN  \n",
              "std                                                   NaN      NaN  \n",
              "min                                                   NaN      NaN  \n",
              "25%                                                   NaN      NaN  \n",
              "50%                                                   NaN      NaN  \n",
              "75%                                                   NaN      NaN  \n",
              "max                                                   NaN      NaN  "
            ],
            "text/html": [
              "\n",
              "  <div id=\"df-63dfd821-ec5d-40a4-b2cc-48f6846c9451\" class=\"colab-df-container\">\n",
              "    <div>\n",
              "<style scoped>\n",
              "    .dataframe tbody tr th:only-of-type {\n",
              "        vertical-align: middle;\n",
              "    }\n",
              "\n",
              "    .dataframe tbody tr th {\n",
              "        vertical-align: top;\n",
              "    }\n",
              "\n",
              "    .dataframe thead th {\n",
              "        text-align: right;\n",
              "    }\n",
              "</style>\n",
              "<table border=\"1\" class=\"dataframe\">\n",
              "  <thead>\n",
              "    <tr style=\"text-align: right;\">\n",
              "      <th></th>\n",
              "      <th>id</th>\n",
              "      <th>name</th>\n",
              "      <th>host_id</th>\n",
              "      <th>host_name</th>\n",
              "      <th>neighbourhood_group</th>\n",
              "      <th>neighbourhood</th>\n",
              "      <th>latitude</th>\n",
              "      <th>longitude</th>\n",
              "      <th>room_type</th>\n",
              "      <th>price</th>\n",
              "      <th>minimum_nights</th>\n",
              "      <th>number_of_reviews</th>\n",
              "      <th>last_review</th>\n",
              "      <th>reviews_per_month</th>\n",
              "      <th>calculated_host_listings_count</th>\n",
              "      <th>availability_365</th>\n",
              "      <th>number_of_reviews_ltm</th>\n",
              "      <th>license</th>\n",
              "      <th>city</th>\n",
              "    </tr>\n",
              "  </thead>\n",
              "  <tbody>\n",
              "    <tr>\n",
              "      <th>count</th>\n",
              "      <td>1.560300e+04</td>\n",
              "      <td>15603</td>\n",
              "      <td>1.560300e+04</td>\n",
              "      <td>15603</td>\n",
              "      <td>0.0</td>\n",
              "      <td>15603</td>\n",
              "      <td>15603.000000</td>\n",
              "      <td>15603.000000</td>\n",
              "      <td>15603</td>\n",
              "      <td>15603.000000</td>\n",
              "      <td>15603.000000</td>\n",
              "      <td>15603.000000</td>\n",
              "      <td>12808</td>\n",
              "      <td>12808.000000</td>\n",
              "      <td>15603.000000</td>\n",
              "      <td>15603.000000</td>\n",
              "      <td>15603.000000</td>\n",
              "      <td>12843</td>\n",
              "      <td>15603</td>\n",
              "    </tr>\n",
              "    <tr>\n",
              "      <th>unique</th>\n",
              "      <td>NaN</td>\n",
              "      <td>7368</td>\n",
              "      <td>NaN</td>\n",
              "      <td>3329</td>\n",
              "      <td>NaN</td>\n",
              "      <td>144</td>\n",
              "      <td>NaN</td>\n",
              "      <td>NaN</td>\n",
              "      <td>4</td>\n",
              "      <td>NaN</td>\n",
              "      <td>NaN</td>\n",
              "      <td>NaN</td>\n",
              "      <td>1313</td>\n",
              "      <td>NaN</td>\n",
              "      <td>NaN</td>\n",
              "      <td>NaN</td>\n",
              "      <td>NaN</td>\n",
              "      <td>8347</td>\n",
              "      <td>2</td>\n",
              "    </tr>\n",
              "    <tr>\n",
              "      <th>top</th>\n",
              "      <td>NaN</td>\n",
              "      <td>Rental unit in Chicago · 1 bedroom · 1 bed · 1...</td>\n",
              "      <td>NaN</td>\n",
              "      <td>Blueground</td>\n",
              "      <td>NaN</td>\n",
              "      <td>Near North Side</td>\n",
              "      <td>NaN</td>\n",
              "      <td>NaN</td>\n",
              "      <td>Entire home/apt</td>\n",
              "      <td>NaN</td>\n",
              "      <td>NaN</td>\n",
              "      <td>NaN</td>\n",
              "      <td>2023-09-04</td>\n",
              "      <td>NaN</td>\n",
              "      <td>NaN</td>\n",
              "      <td>NaN</td>\n",
              "      <td>NaN</td>\n",
              "      <td>Exempt: This listing is a licensed hotel, mote...</td>\n",
              "      <td>chicago</td>\n",
              "    </tr>\n",
              "    <tr>\n",
              "      <th>freq</th>\n",
              "      <td>NaN</td>\n",
              "      <td>543</td>\n",
              "      <td>NaN</td>\n",
              "      <td>645</td>\n",
              "      <td>NaN</td>\n",
              "      <td>1038</td>\n",
              "      <td>NaN</td>\n",
              "      <td>NaN</td>\n",
              "      <td>12644</td>\n",
              "      <td>NaN</td>\n",
              "      <td>NaN</td>\n",
              "      <td>NaN</td>\n",
              "      <td>597</td>\n",
              "      <td>NaN</td>\n",
              "      <td>NaN</td>\n",
              "      <td>NaN</td>\n",
              "      <td>NaN</td>\n",
              "      <td>1322</td>\n",
              "      <td>8528</td>\n",
              "    </tr>\n",
              "    <tr>\n",
              "      <th>mean</th>\n",
              "      <td>3.509038e+17</td>\n",
              "      <td>NaN</td>\n",
              "      <td>1.808865e+08</td>\n",
              "      <td>NaN</td>\n",
              "      <td>NaN</td>\n",
              "      <td>NaN</td>\n",
              "      <td>36.481026</td>\n",
              "      <td>-88.755594</td>\n",
              "      <td>NaN</td>\n",
              "      <td>202.532910</td>\n",
              "      <td>14.236493</td>\n",
              "      <td>54.042364</td>\n",
              "      <td>NaN</td>\n",
              "      <td>1.845533</td>\n",
              "      <td>37.654361</td>\n",
              "      <td>191.137794</td>\n",
              "      <td>13.432994</td>\n",
              "      <td>NaN</td>\n",
              "      <td>NaN</td>\n",
              "    </tr>\n",
              "    <tr>\n",
              "      <th>std</th>\n",
              "      <td>4.024449e+17</td>\n",
              "      <td>NaN</td>\n",
              "      <td>1.686068e+08</td>\n",
              "      <td>NaN</td>\n",
              "      <td>NaN</td>\n",
              "      <td>NaN</td>\n",
              "      <td>5.941259</td>\n",
              "      <td>1.201528</td>\n",
              "      <td>NaN</td>\n",
              "      <td>274.052339</td>\n",
              "      <td>32.826205</td>\n",
              "      <td>91.335301</td>\n",
              "      <td>NaN</td>\n",
              "      <td>1.997420</td>\n",
              "      <td>127.558515</td>\n",
              "      <td>131.045049</td>\n",
              "      <td>20.907354</td>\n",
              "      <td>NaN</td>\n",
              "      <td>NaN</td>\n",
              "    </tr>\n",
              "    <tr>\n",
              "      <th>min</th>\n",
              "      <td>2.384000e+03</td>\n",
              "      <td>NaN</td>\n",
              "      <td>9.710000e+02</td>\n",
              "      <td>NaN</td>\n",
              "      <td>NaN</td>\n",
              "      <td>NaN</td>\n",
              "      <td>29.897680</td>\n",
              "      <td>-90.137480</td>\n",
              "      <td>NaN</td>\n",
              "      <td>11.000000</td>\n",
              "      <td>1.000000</td>\n",
              "      <td>0.000000</td>\n",
              "      <td>NaN</td>\n",
              "      <td>0.010000</td>\n",
              "      <td>1.000000</td>\n",
              "      <td>0.000000</td>\n",
              "      <td>0.000000</td>\n",
              "      <td>NaN</td>\n",
              "      <td>NaN</td>\n",
              "    </tr>\n",
              "    <tr>\n",
              "      <th>25%</th>\n",
              "      <td>3.077330e+07</td>\n",
              "      <td>NaN</td>\n",
              "      <td>3.494929e+07</td>\n",
              "      <td>NaN</td>\n",
              "      <td>NaN</td>\n",
              "      <td>NaN</td>\n",
              "      <td>29.962925</td>\n",
              "      <td>-90.071617</td>\n",
              "      <td>NaN</td>\n",
              "      <td>91.000000</td>\n",
              "      <td>2.000000</td>\n",
              "      <td>2.000000</td>\n",
              "      <td>NaN</td>\n",
              "      <td>0.557500</td>\n",
              "      <td>1.000000</td>\n",
              "      <td>68.000000</td>\n",
              "      <td>0.000000</td>\n",
              "      <td>NaN</td>\n",
              "      <td>NaN</td>\n",
              "    </tr>\n",
              "    <tr>\n",
              "      <th>50%</th>\n",
              "      <td>5.171008e+07</td>\n",
              "      <td>NaN</td>\n",
              "      <td>1.110018e+08</td>\n",
              "      <td>NaN</td>\n",
              "      <td>NaN</td>\n",
              "      <td>NaN</td>\n",
              "      <td>41.789730</td>\n",
              "      <td>-87.720510</td>\n",
              "      <td>NaN</td>\n",
              "      <td>136.000000</td>\n",
              "      <td>2.000000</td>\n",
              "      <td>19.000000</td>\n",
              "      <td>NaN</td>\n",
              "      <td>1.500000</td>\n",
              "      <td>3.000000</td>\n",
              "      <td>185.000000</td>\n",
              "      <td>5.000000</td>\n",
              "      <td>NaN</td>\n",
              "      <td>NaN</td>\n",
              "    </tr>\n",
              "    <tr>\n",
              "      <th>75%</th>\n",
              "      <td>7.577271e+17</td>\n",
              "      <td>NaN</td>\n",
              "      <td>3.236647e+08</td>\n",
              "      <td>NaN</td>\n",
              "      <td>NaN</td>\n",
              "      <td>NaN</td>\n",
              "      <td>41.899680</td>\n",
              "      <td>-87.653583</td>\n",
              "      <td>NaN</td>\n",
              "      <td>224.000000</td>\n",
              "      <td>30.000000</td>\n",
              "      <td>69.000000</td>\n",
              "      <td>NaN</td>\n",
              "      <td>2.690000</td>\n",
              "      <td>15.000000</td>\n",
              "      <td>325.000000</td>\n",
              "      <td>22.000000</td>\n",
              "      <td>NaN</td>\n",
              "      <td>NaN</td>\n",
              "    </tr>\n",
              "    <tr>\n",
              "      <th>max</th>\n",
              "      <td>1.037102e+18</td>\n",
              "      <td>NaN</td>\n",
              "      <td>5.488747e+08</td>\n",
              "      <td>NaN</td>\n",
              "      <td>NaN</td>\n",
              "      <td>NaN</td>\n",
              "      <td>42.022200</td>\n",
              "      <td>-87.528420</td>\n",
              "      <td>NaN</td>\n",
              "      <td>10000.000000</td>\n",
              "      <td>1125.000000</td>\n",
              "      <td>3332.000000</td>\n",
              "      <td>NaN</td>\n",
              "      <td>108.100000</td>\n",
              "      <td>645.000000</td>\n",
              "      <td>365.000000</td>\n",
              "      <td>684.000000</td>\n",
              "      <td>NaN</td>\n",
              "      <td>NaN</td>\n",
              "    </tr>\n",
              "  </tbody>\n",
              "</table>\n",
              "</div>\n",
              "    <div class=\"colab-df-buttons\">\n",
              "\n",
              "  <div class=\"colab-df-container\">\n",
              "    <button class=\"colab-df-convert\" onclick=\"convertToInteractive('df-63dfd821-ec5d-40a4-b2cc-48f6846c9451')\"\n",
              "            title=\"Convert this dataframe to an interactive table.\"\n",
              "            style=\"display:none;\">\n",
              "\n",
              "  <svg xmlns=\"http://www.w3.org/2000/svg\" height=\"24px\" viewBox=\"0 -960 960 960\">\n",
              "    <path d=\"M120-120v-720h720v720H120Zm60-500h600v-160H180v160Zm220 220h160v-160H400v160Zm0 220h160v-160H400v160ZM180-400h160v-160H180v160Zm440 0h160v-160H620v160ZM180-180h160v-160H180v160Zm440 0h160v-160H620v160Z\"/>\n",
              "  </svg>\n",
              "    </button>\n",
              "\n",
              "  <style>\n",
              "    .colab-df-container {\n",
              "      display:flex;\n",
              "      gap: 12px;\n",
              "    }\n",
              "\n",
              "    .colab-df-convert {\n",
              "      background-color: #E8F0FE;\n",
              "      border: none;\n",
              "      border-radius: 50%;\n",
              "      cursor: pointer;\n",
              "      display: none;\n",
              "      fill: #1967D2;\n",
              "      height: 32px;\n",
              "      padding: 0 0 0 0;\n",
              "      width: 32px;\n",
              "    }\n",
              "\n",
              "    .colab-df-convert:hover {\n",
              "      background-color: #E2EBFA;\n",
              "      box-shadow: 0px 1px 2px rgba(60, 64, 67, 0.3), 0px 1px 3px 1px rgba(60, 64, 67, 0.15);\n",
              "      fill: #174EA6;\n",
              "    }\n",
              "\n",
              "    .colab-df-buttons div {\n",
              "      margin-bottom: 4px;\n",
              "    }\n",
              "\n",
              "    [theme=dark] .colab-df-convert {\n",
              "      background-color: #3B4455;\n",
              "      fill: #D2E3FC;\n",
              "    }\n",
              "\n",
              "    [theme=dark] .colab-df-convert:hover {\n",
              "      background-color: #434B5C;\n",
              "      box-shadow: 0px 1px 3px 1px rgba(0, 0, 0, 0.15);\n",
              "      filter: drop-shadow(0px 1px 2px rgba(0, 0, 0, 0.3));\n",
              "      fill: #FFFFFF;\n",
              "    }\n",
              "  </style>\n",
              "\n",
              "    <script>\n",
              "      const buttonEl =\n",
              "        document.querySelector('#df-63dfd821-ec5d-40a4-b2cc-48f6846c9451 button.colab-df-convert');\n",
              "      buttonEl.style.display =\n",
              "        google.colab.kernel.accessAllowed ? 'block' : 'none';\n",
              "\n",
              "      async function convertToInteractive(key) {\n",
              "        const element = document.querySelector('#df-63dfd821-ec5d-40a4-b2cc-48f6846c9451');\n",
              "        const dataTable =\n",
              "          await google.colab.kernel.invokeFunction('convertToInteractive',\n",
              "                                                    [key], {});\n",
              "        if (!dataTable) return;\n",
              "\n",
              "        const docLinkHtml = 'Like what you see? Visit the ' +\n",
              "          '<a target=\"_blank\" href=https://colab.research.google.com/notebooks/data_table.ipynb>data table notebook</a>'\n",
              "          + ' to learn more about interactive tables.';\n",
              "        element.innerHTML = '';\n",
              "        dataTable['output_type'] = 'display_data';\n",
              "        await google.colab.output.renderOutput(dataTable, element);\n",
              "        const docLink = document.createElement('div');\n",
              "        docLink.innerHTML = docLinkHtml;\n",
              "        element.appendChild(docLink);\n",
              "      }\n",
              "    </script>\n",
              "  </div>\n",
              "\n",
              "\n",
              "<div id=\"df-c00f74fb-6e27-4d61-952b-eb182ddb024f\">\n",
              "  <button class=\"colab-df-quickchart\" onclick=\"quickchart('df-c00f74fb-6e27-4d61-952b-eb182ddb024f')\"\n",
              "            title=\"Suggest charts\"\n",
              "            style=\"display:none;\">\n",
              "\n",
              "<svg xmlns=\"http://www.w3.org/2000/svg\" height=\"24px\"viewBox=\"0 0 24 24\"\n",
              "     width=\"24px\">\n",
              "    <g>\n",
              "        <path d=\"M19 3H5c-1.1 0-2 .9-2 2v14c0 1.1.9 2 2 2h14c1.1 0 2-.9 2-2V5c0-1.1-.9-2-2-2zM9 17H7v-7h2v7zm4 0h-2V7h2v10zm4 0h-2v-4h2v4z\"/>\n",
              "    </g>\n",
              "</svg>\n",
              "  </button>\n",
              "\n",
              "<style>\n",
              "  .colab-df-quickchart {\n",
              "      --bg-color: #E8F0FE;\n",
              "      --fill-color: #1967D2;\n",
              "      --hover-bg-color: #E2EBFA;\n",
              "      --hover-fill-color: #174EA6;\n",
              "      --disabled-fill-color: #AAA;\n",
              "      --disabled-bg-color: #DDD;\n",
              "  }\n",
              "\n",
              "  [theme=dark] .colab-df-quickchart {\n",
              "      --bg-color: #3B4455;\n",
              "      --fill-color: #D2E3FC;\n",
              "      --hover-bg-color: #434B5C;\n",
              "      --hover-fill-color: #FFFFFF;\n",
              "      --disabled-bg-color: #3B4455;\n",
              "      --disabled-fill-color: #666;\n",
              "  }\n",
              "\n",
              "  .colab-df-quickchart {\n",
              "    background-color: var(--bg-color);\n",
              "    border: none;\n",
              "    border-radius: 50%;\n",
              "    cursor: pointer;\n",
              "    display: none;\n",
              "    fill: var(--fill-color);\n",
              "    height: 32px;\n",
              "    padding: 0;\n",
              "    width: 32px;\n",
              "  }\n",
              "\n",
              "  .colab-df-quickchart:hover {\n",
              "    background-color: var(--hover-bg-color);\n",
              "    box-shadow: 0 1px 2px rgba(60, 64, 67, 0.3), 0 1px 3px 1px rgba(60, 64, 67, 0.15);\n",
              "    fill: var(--button-hover-fill-color);\n",
              "  }\n",
              "\n",
              "  .colab-df-quickchart-complete:disabled,\n",
              "  .colab-df-quickchart-complete:disabled:hover {\n",
              "    background-color: var(--disabled-bg-color);\n",
              "    fill: var(--disabled-fill-color);\n",
              "    box-shadow: none;\n",
              "  }\n",
              "\n",
              "  .colab-df-spinner {\n",
              "    border: 2px solid var(--fill-color);\n",
              "    border-color: transparent;\n",
              "    border-bottom-color: var(--fill-color);\n",
              "    animation:\n",
              "      spin 1s steps(1) infinite;\n",
              "  }\n",
              "\n",
              "  @keyframes spin {\n",
              "    0% {\n",
              "      border-color: transparent;\n",
              "      border-bottom-color: var(--fill-color);\n",
              "      border-left-color: var(--fill-color);\n",
              "    }\n",
              "    20% {\n",
              "      border-color: transparent;\n",
              "      border-left-color: var(--fill-color);\n",
              "      border-top-color: var(--fill-color);\n",
              "    }\n",
              "    30% {\n",
              "      border-color: transparent;\n",
              "      border-left-color: var(--fill-color);\n",
              "      border-top-color: var(--fill-color);\n",
              "      border-right-color: var(--fill-color);\n",
              "    }\n",
              "    40% {\n",
              "      border-color: transparent;\n",
              "      border-right-color: var(--fill-color);\n",
              "      border-top-color: var(--fill-color);\n",
              "    }\n",
              "    60% {\n",
              "      border-color: transparent;\n",
              "      border-right-color: var(--fill-color);\n",
              "    }\n",
              "    80% {\n",
              "      border-color: transparent;\n",
              "      border-right-color: var(--fill-color);\n",
              "      border-bottom-color: var(--fill-color);\n",
              "    }\n",
              "    90% {\n",
              "      border-color: transparent;\n",
              "      border-bottom-color: var(--fill-color);\n",
              "    }\n",
              "  }\n",
              "</style>\n",
              "\n",
              "  <script>\n",
              "    async function quickchart(key) {\n",
              "      const quickchartButtonEl =\n",
              "        document.querySelector('#' + key + ' button');\n",
              "      quickchartButtonEl.disabled = true;  // To prevent multiple clicks.\n",
              "      quickchartButtonEl.classList.add('colab-df-spinner');\n",
              "      try {\n",
              "        const charts = await google.colab.kernel.invokeFunction(\n",
              "            'suggestCharts', [key], {});\n",
              "      } catch (error) {\n",
              "        console.error('Error during call to suggestCharts:', error);\n",
              "      }\n",
              "      quickchartButtonEl.classList.remove('colab-df-spinner');\n",
              "      quickchartButtonEl.classList.add('colab-df-quickchart-complete');\n",
              "    }\n",
              "    (() => {\n",
              "      let quickchartButtonEl =\n",
              "        document.querySelector('#df-c00f74fb-6e27-4d61-952b-eb182ddb024f button');\n",
              "      quickchartButtonEl.style.display =\n",
              "        google.colab.kernel.accessAllowed ? 'block' : 'none';\n",
              "    })();\n",
              "  </script>\n",
              "</div>\n",
              "\n",
              "    </div>\n",
              "  </div>\n"
            ]
          },
          "metadata": {},
          "execution_count": 12
        }
      ]
    },
    {
      "cell_type": "code",
      "source": [
        "df.info()"
      ],
      "metadata": {
        "colab": {
          "base_uri": "https://localhost:8080/"
        },
        "id": "aVV1o7LFCOfx",
        "outputId": "2d5ab56d-8452-4b7d-908e-e5beffa18e16"
      },
      "execution_count": 13,
      "outputs": [
        {
          "output_type": "stream",
          "name": "stdout",
          "text": [
            "<class 'pandas.core.frame.DataFrame'>\n",
            "Int64Index: 15603 entries, 0 to 7074\n",
            "Data columns (total 19 columns):\n",
            " #   Column                          Non-Null Count  Dtype  \n",
            "---  ------                          --------------  -----  \n",
            " 0   id                              15603 non-null  int64  \n",
            " 1   name                            15603 non-null  object \n",
            " 2   host_id                         15603 non-null  int64  \n",
            " 3   host_name                       15603 non-null  object \n",
            " 4   neighbourhood_group             0 non-null      float64\n",
            " 5   neighbourhood                   15603 non-null  object \n",
            " 6   latitude                        15603 non-null  float64\n",
            " 7   longitude                       15603 non-null  float64\n",
            " 8   room_type                       15603 non-null  object \n",
            " 9   price                           15603 non-null  int64  \n",
            " 10  minimum_nights                  15603 non-null  int64  \n",
            " 11  number_of_reviews               15603 non-null  int64  \n",
            " 12  last_review                     12808 non-null  object \n",
            " 13  reviews_per_month               12808 non-null  float64\n",
            " 14  calculated_host_listings_count  15603 non-null  int64  \n",
            " 15  availability_365                15603 non-null  int64  \n",
            " 16  number_of_reviews_ltm           15603 non-null  int64  \n",
            " 17  license                         12843 non-null  object \n",
            " 18  city                            15603 non-null  object \n",
            "dtypes: float64(4), int64(8), object(7)\n",
            "memory usage: 2.4+ MB\n"
          ]
        }
      ]
    },
    {
      "cell_type": "markdown",
      "source": [
        "# Data Cleaning"
      ],
      "metadata": {
        "id": "8b0IyRHtCC7R"
      }
    },
    {
      "cell_type": "markdown",
      "metadata": {
        "id": "35m5QtbWiB9F"
      },
      "source": [
        "## Duplicate Values"
      ]
    },
    {
      "cell_type": "code",
      "execution_count": 14,
      "metadata": {
        "colab": {
          "base_uri": "https://localhost:8080/"
        },
        "id": "1sLdpKYkmox0",
        "outputId": "2b881e97-876e-41b3-f376-8531e76990ef"
      },
      "outputs": [
        {
          "output_type": "execute_result",
          "data": {
            "text/plain": [
              "0"
            ]
          },
          "metadata": {},
          "execution_count": 14
        }
      ],
      "source": [
        "# Dataset Duplicate Value Count\n",
        "\n",
        "df.duplicated().sum()"
      ]
    },
    {
      "cell_type": "markdown",
      "metadata": {
        "id": "PoPl-ycgm1ru"
      },
      "source": [
        "## Missing Values/Null Values"
      ]
    },
    {
      "cell_type": "code",
      "execution_count": 15,
      "metadata": {
        "colab": {
          "base_uri": "https://localhost:8080/"
        },
        "id": "GgHWkxvamxVg",
        "outputId": "8daa9823-5c4b-4769-ce00-cd1c26a39f2d"
      },
      "outputs": [
        {
          "output_type": "execute_result",
          "data": {
            "text/plain": [
              "id                                    0\n",
              "name                                  0\n",
              "host_id                               0\n",
              "host_name                             0\n",
              "neighbourhood_group               15603\n",
              "neighbourhood                         0\n",
              "latitude                              0\n",
              "longitude                             0\n",
              "room_type                             0\n",
              "price                                 0\n",
              "minimum_nights                        0\n",
              "number_of_reviews                     0\n",
              "last_review                        2795\n",
              "reviews_per_month                  2795\n",
              "calculated_host_listings_count        0\n",
              "availability_365                      0\n",
              "number_of_reviews_ltm                 0\n",
              "license                            2760\n",
              "city                                  0\n",
              "dtype: int64"
            ]
          },
          "metadata": {},
          "execution_count": 15
        }
      ],
      "source": [
        "# Missing Values/Null Values Count\n",
        "df.isnull().sum()"
      ]
    },
    {
      "cell_type": "code",
      "source": [
        "# Visualizing the missing values\n",
        "#using hbeatmap\n",
        "\n",
        "plt.figure(figsize=(5,4))\n",
        "\n",
        "colours = ['#34495E', 'seagreen']\n",
        "sns.heatmap(df.isnull(), cmap=sns.color_palette(colours))\n",
        "\n"
      ],
      "metadata": {
        "colab": {
          "base_uri": "https://localhost:8080/",
          "height": 589
        },
        "id": "yarMm-81CqXJ",
        "outputId": "06843da4-93e6-4299-81e3-89fd70224c79"
      },
      "execution_count": 16,
      "outputs": [
        {
          "output_type": "execute_result",
          "data": {
            "text/plain": [
              "<Axes: >"
            ]
          },
          "metadata": {},
          "execution_count": 16
        },
        {
          "output_type": "display_data",
          "data": {
            "text/plain": [
              "<Figure size 500x400 with 2 Axes>"
            ],
            "image/png": "[encoded data removed]"
          },
          "metadata": {}
        }
      ]
    },
    {
      "cell_type": "code",
      "source": [
        "# since the entire neighborhood group column is empty , we're gonna do this\n",
        "\n",
        "df['neighbourhood_group'] = 'N/A'"
      ],
      "metadata": {
        "id": "K5sjmK5FPRTG"
      },
      "execution_count": 17,
      "outputs": []
    },
    {
      "cell_type": "code",
      "source": [
        "for col in df.columns:\n",
        "  if df[col].dtype == 'object':\n",
        "    df[col] = df[col].fillna('N/A')\n",
        "  else:\n",
        "    df[col] = df[col].fillna(0)"
      ],
      "metadata": {
        "id": "x1yz7L84CqaJ"
      },
      "execution_count": 18,
      "outputs": []
    },
    {
      "cell_type": "code",
      "source": [
        "# Missing Values/Null Values Count\n",
        "df.isnull().sum()"
      ],
      "metadata": {
        "colab": {
          "base_uri": "https://localhost:8080/"
        },
        "id": "fPHHWGS2GcD5",
        "outputId": "33cb227d-0ac8-4f13-d074-28d8b21db8c5"
      },
      "execution_count": 19,
      "outputs": [
        {
          "output_type": "execute_result",
          "data": {
            "text/plain": [
              "id                                0\n",
              "name                              0\n",
              "host_id                           0\n",
              "host_name                         0\n",
              "neighbourhood_group               0\n",
              "neighbourhood                     0\n",
              "latitude                          0\n",
              "longitude                         0\n",
              "room_type                         0\n",
              "price                             0\n",
              "minimum_nights                    0\n",
              "number_of_reviews                 0\n",
              "last_review                       0\n",
              "reviews_per_month                 0\n",
              "calculated_host_listings_count    0\n",
              "availability_365                  0\n",
              "number_of_reviews_ltm             0\n",
              "license                           0\n",
              "city                              0\n",
              "dtype: int64"
            ]
          },
          "metadata": {},
          "execution_count": 19
        }
      ]
    },
    {
      "cell_type": "markdown",
      "source": [
        "#Downloading the cleaned data for Dashboard, & saving a copy in google drive"
      ],
      "metadata": {
        "id": "jpP5suRGf_Qb"
      }
    },
    {
      "cell_type": "code",
      "source": [
        "df.to_csv('/content/drive/MyDrive/AA AlmaBetter/Module 4 tableau Dashboard/result.csv')"
      ],
      "metadata": {
        "id": "WY17KPS8gC2r"
      },
      "execution_count": 20,
      "outputs": []
    },
    {
      "cell_type": "markdown",
      "source": [
        "# **Key Attributes**:\n",
        "\n",
        "1. id: Unique identifier for each listing.\n",
        "\n",
        "2. name: The title or name of the listing.\n",
        "\n",
        "3. host_id: Unique identifier for the host of the property.\n",
        "\n",
        "4. host_name: Name of the host.\n",
        "\n",
        "5. neighbourhood_group: The broader area or group that the neighbourhood belongs to.\n",
        "\n",
        "6. neighbourhood: Specific neighbourhood where the property is located.\n",
        "\n",
        "7. latitude: Latitude coordinate of the property.\n",
        "\n",
        "8. longitude: Longitude coordinate of the property.\n",
        "\n",
        "9. room_type: Type of room (e.g., Private room, Entire home/apt, Shared room).\n",
        "\n",
        "10. price: Price of the listing per night.\n",
        "\n",
        "11. minimum_nights: Minimum number of nights required for booking.\n",
        "\n",
        "12. number_of_reviews: Total number of reviews received for the listing.\n",
        "\n",
        "13. last_review: Date of the last review.\n",
        "\n",
        "14. reviews_per_month: Average number of reviews per month.\n",
        "\n",
        "15. availability_365: Number of days the listing is available for booking in a year."
      ],
      "metadata": {
        "id": "OR3k7zW2pXtd"
      }
    },
    {
      "cell_type": "markdown",
      "source": [
        "# Analysis"
      ],
      "metadata": {
        "id": "AYAV2oCmN05N"
      }
    },
    {
      "cell_type": "markdown",
      "source": [
        "## 1st select the city - chicago or new orleans"
      ],
      "metadata": {
        "id": "k__CJuVcsB5g"
      }
    },
    {
      "cell_type": "code",
      "source": [
        "#city = str(input('Enter the City , press 1 for chicago, press 2 for new orleans , press 3 for all: '))\n",
        "\n",
        "#if city == '1':\n",
        "  #df = df[df['city'] == 'chicago']\n",
        "#if city == '2':\n",
        " # df = df[df['city'] == 'new orleans']\n",
        "#else:\n",
        "#  df = df\n"
      ],
      "metadata": {
        "id": "m7JlcFxtsGYY"
      },
      "execution_count": 21,
      "outputs": []
    },
    {
      "cell_type": "markdown",
      "source": [
        "## 1.Which are the popular neighbourhoods, their average prices and no. of listings?"
      ],
      "metadata": {
        "id": "iFAhMnYaOC32"
      }
    },
    {
      "cell_type": "markdown",
      "source": [
        "### listing count per neighborhood"
      ],
      "metadata": {
        "id": "37h6Si0PjJ8p"
      }
    },
    {
      "cell_type": "code",
      "source": [
        "#Combining all location scolumns into a single one , foreasier aggregation\n",
        "\n",
        "df['locations_combined'] = df['city'] + ',' + df['neighbourhood_group'] + ',' + df['neighbourhood']\n"
      ],
      "metadata": {
        "id": "ZwKEfdVjOJQu"
      },
      "execution_count": 22,
      "outputs": []
    },
    {
      "cell_type": "code",
      "source": [
        "df.shape"
      ],
      "metadata": {
        "colab": {
          "base_uri": "https://localhost:8080/"
        },
        "id": "T4zqdIqCterp",
        "outputId": "435b96f9-e31e-4741-8fcf-28dccaad4206"
      },
      "execution_count": 23,
      "outputs": [
        {
          "output_type": "execute_result",
          "data": {
            "text/plain": [
              "(15603, 20)"
            ]
          },
          "metadata": {},
          "execution_count": 23
        }
      ]
    },
    {
      "cell_type": "code",
      "execution_count": 24,
      "metadata": {
        "colab": {
          "base_uri": "https://localhost:8080/"
        },
        "id": "kaswHs4WtMhK",
        "outputId": "2de485b4-d1ef-467a-e4ee-2b4a49fe8064"
      },
      "outputs": [
        {
          "output_type": "execute_result",
          "data": {
            "text/plain": [
              "locations_combined\n",
              "chicago,N/A,Near North Side                  1038\n",
              "new orleans,N/A,Central Business District     975\n",
              "chicago,N/A,West Town                         841\n",
              "new orleans,N/A,Central City                  629\n",
              "chicago,N/A,Lake View                         617\n",
              "chicago,N/A,Near West Side                    518\n",
              "chicago,N/A,Logan Square                      471\n",
              "chicago,N/A,Loop                              468\n",
              "new orleans,N/A,Mid-City                      458\n",
              "new orleans,N/A,Seventh Ward                  453\n",
              "dtype: int64"
            ]
          },
          "metadata": {},
          "execution_count": 24
        }
      ],
      "source": [
        "dfg = df.groupby(['locations_combined']).size().nlargest(10)\n",
        "dfg"
      ]
    },
    {
      "cell_type": "code",
      "execution_count": 25,
      "metadata": {
        "colab": {
          "base_uri": "https://localhost:8080/",
          "height": 778
        },
        "id": "R4YgtaqtYklH",
        "outputId": "a6694e8d-b4e6-467f-8261-c1acc2f6f467"
      },
      "outputs": [
        {
          "output_type": "execute_result",
          "data": {
            "text/plain": [
              "<Axes: title={'center': 'count per location'}, xlabel='locations_combined', ylabel='count'>"
            ]
          },
          "metadata": {},
          "execution_count": 25
        },
        {
          "output_type": "display_data",
          "data": {
            "text/plain": [
              "<Figure size 600x500 with 1 Axes>"
            ],
            "image/png": "[encoded data removed]"
          },
          "metadata": {}
        }
      ],
      "source": [
        "# Chart - 2 visualization codec\n",
        "\n",
        "dfg.plot(kind='bar', title='count per location', ylabel='count',\n",
        "         xlabel='locations_combined', figsize=(6, 5))"
      ]
    },
    {
      "cell_type": "markdown",
      "source": [
        "Observations"
      ],
      "metadata": {
        "id": "DFNnqSfYesez"
      }
    },
    {
      "cell_type": "markdown",
      "source": [
        "seems like chicago has more listings than new orleans"
      ],
      "metadata": {
        "id": "kuP1PZAhNOKs"
      }
    },
    {
      "cell_type": "code",
      "source": [
        "##"
      ],
      "metadata": {
        "id": "x8fPahs5Cqdr"
      },
      "execution_count": 26,
      "outputs": []
    },
    {
      "cell_type": "markdown",
      "source": [
        "### Avg number of reviews per neighborhood"
      ],
      "metadata": {
        "id": "5SCkr65mjSyK"
      }
    },
    {
      "cell_type": "code",
      "execution_count": 27,
      "metadata": {
        "colab": {
          "base_uri": "https://localhost:8080/"
        },
        "outputId": "09ec3634-5232-43c2-d3f4-933c2d847229",
        "id": "3pfnDfwrexiD"
      },
      "outputs": [
        {
          "output_type": "execute_result",
          "data": {
            "text/plain": [
              "locations_combined\n",
              "chicago,N/A,Edison Park            171.500000\n",
              "new orleans,N/A,Garden District    102.000000\n",
              "chicago,N/A,West Lawn               91.700000\n",
              "new orleans,N/A,Desire Area         91.600000\n",
              "new orleans,N/A,St. Thomas Dev      91.509804\n",
              "new orleans,N/A,Irish Channel       89.568000\n",
              "new orleans,N/A,Marigny             88.665871\n",
              "new orleans,N/A,Treme - Lafitte     88.621103\n",
              "new orleans,N/A,Bywater             87.435185\n",
              "chicago,N/A,Archer Heights          84.750000\n",
              "Name: number_of_reviews, dtype: float64"
            ]
          },
          "metadata": {},
          "execution_count": 27
        }
      ],
      "source": [
        "dfg = df.groupby(['locations_combined'])['number_of_reviews'].mean().nlargest(10)\n",
        "dfg"
      ]
    },
    {
      "cell_type": "code",
      "execution_count": 28,
      "metadata": {
        "colab": {
          "base_uri": "https://localhost:8080/",
          "height": 718
        },
        "outputId": "f5f9688b-f264-493e-eabf-78ace1c3e509",
        "id": "wao1bodlexiL"
      },
      "outputs": [
        {
          "output_type": "execute_result",
          "data": {
            "text/plain": [
              "<Axes: title={'center': 'avg no of reviews per location'}, xlabel='locations_combined', ylabel='avg number_of_reviews'>"
            ]
          },
          "metadata": {},
          "execution_count": 28
        },
        {
          "output_type": "display_data",
          "data": {
            "text/plain": [
              "<Figure size 600x500 with 1 Axes>"
            ],
            "image/png": "[encoded data removed]"
          },
          "metadata": {}
        }
      ],
      "source": [
        "\n",
        "\n",
        "dfg.plot(kind='bar', title='avg no of reviews per location', ylabel='avg number_of_reviews',\n",
        "         xlabel='locations_combined', figsize=(6, 5))"
      ]
    },
    {
      "cell_type": "markdown",
      "source": [
        "Observations"
      ],
      "metadata": {
        "id": "Z48FB67tfJoJ"
      }
    },
    {
      "cell_type": "markdown",
      "source": [
        "Since neighborhoods in new orleans has more reviews than chicago, seems like new orleans is more popular."
      ],
      "metadata": {
        "id": "kk7GOq39Nmfa"
      }
    },
    {
      "cell_type": "code",
      "source": [],
      "metadata": {
        "id": "K2GuUyi1Cqkz"
      },
      "execution_count": 28,
      "outputs": []
    },
    {
      "cell_type": "markdown",
      "source": [
        "### Avg reviews per month per neighborhood"
      ],
      "metadata": {
        "id": "S7R2yQ32jlEp"
      }
    },
    {
      "cell_type": "code",
      "execution_count": 29,
      "metadata": {
        "colab": {
          "base_uri": "https://localhost:8080/"
        },
        "outputId": "97087612-7621-4bf2-e4d3-bdbe2d0272a8",
        "id": "InY2yOzmfPuO"
      },
      "outputs": [
        {
          "output_type": "execute_result",
          "data": {
            "text/plain": [
              "locations_combined\n",
              "chicago,N/A,Riverdale         6.690000\n",
              "chicago,N/A,Archer Heights    2.992500\n",
              "chicago,N/A,Gage Park         2.470000\n",
              "chicago,N/A,Lincoln Square    2.326909\n",
              "chicago,N/A,Fuller Park       2.326000\n",
              "chicago,N/A,Armour Square     2.240845\n",
              "chicago,N/A,Edison Park       2.165000\n",
              "chicago,N/A,Morgan Park       2.157778\n",
              "chicago,N/A,Lake View         2.125981\n",
              "chicago,N/A,Logan Square      2.028408\n",
              "Name: reviews_per_month, dtype: float64"
            ]
          },
          "metadata": {},
          "execution_count": 29
        }
      ],
      "source": [
        "dfg = df.groupby(['locations_combined'])['reviews_per_month'].mean().nlargest(10)\n",
        "dfg"
      ]
    },
    {
      "cell_type": "code",
      "execution_count": 30,
      "metadata": {
        "colab": {
          "base_uri": "https://localhost:8080/",
          "height": 682
        },
        "outputId": "0c4064b2-f17f-4632-b6e1-286d74e36e05",
        "id": "1OqwIaqSfPuO"
      },
      "outputs": [
        {
          "output_type": "execute_result",
          "data": {
            "text/plain": [
              "<Axes: title={'center': 'avg reviews_per_month per location'}, xlabel='locations_combined', ylabel='avg reviews_per_month'>"
            ]
          },
          "metadata": {},
          "execution_count": 30
        },
        {
          "output_type": "display_data",
          "data": {
            "text/plain": [
              "<Figure size 600x500 with 1 Axes>"
            ],
            "image/png": "[encoded data removed]"
          },
          "metadata": {}
        }
      ],
      "source": [
        "\n",
        "\n",
        "dfg.plot(kind='bar', title='avg reviews_per_month per location', ylabel='avg reviews_per_month',\n",
        "         xlabel='locations_combined', figsize=(6, 5))"
      ]
    },
    {
      "cell_type": "markdown",
      "source": [
        "chicago neighborhoods has more reviews per month than new orleans , but in previous graph we saw that new orleans has more reviews. So it might mean that rentals in chicago are set up more recently."
      ],
      "metadata": {
        "id": "2lYKwqO0OONU"
      }
    },
    {
      "cell_type": "markdown",
      "source": [
        "## 2.What is the percent share of different property types and room types?"
      ],
      "metadata": {
        "id": "REA8fHJVftY6"
      }
    },
    {
      "cell_type": "markdown",
      "source": [
        "### Count per room type"
      ],
      "metadata": {
        "id": "ODCwep0DjtQ6"
      }
    },
    {
      "cell_type": "code",
      "source": [
        "# Chart - 3 visualization code\n",
        "#plt.pie(df, labels='room_type', autopct='%.2f%%')\n",
        "value_counts = df['room_type'].value_counts(dropna=True, sort=True)\n",
        "df_val_counts = pd.DataFrame(value_counts)\n",
        "\n",
        "plt.pie(df_val_counts['room_type'], labels=df_val_counts.index, autopct='%.2f%%')"
      ],
      "metadata": {
        "colab": {
          "base_uri": "https://localhost:8080/",
          "height": 614
        },
        "id": "GkLHFeaef0tD",
        "outputId": "fead9295-c8e2-49a6-e7f3-648424cf5c19"
      },
      "execution_count": 31,
      "outputs": [
        {
          "output_type": "execute_result",
          "data": {
            "text/plain": [
              "([<matplotlib.patches.Wedge at 0x7ead28dfec20>,\n",
              "  <matplotlib.patches.Wedge at 0x7ead28dfeb00>,\n",
              "  <matplotlib.patches.Wedge at 0x7ead28dff7f0>,\n",
              "  <matplotlib.patches.Wedge at 0x7ead28dffe80>],\n",
              " [Text(-0.9104814542996347, 0.6172710274882682, 'Entire home/apt'),\n",
              "  Text(0.8848931027364666, -0.6534249740631508, 'Private room'),\n",
              "  Text(1.0984463528295048, -0.05844321992805809, 'Shared room'),\n",
              "  Text(1.0999086722660012, -0.014174366795120687, 'Hotel room')],\n",
              " [Text(-0.4966262477998007, 0.33669328772087354, '81.04%'),\n",
              "  Text(0.4826689651289817, -0.35641362221626405, '17.68%'),\n",
              "  Text(0.5991525560888207, -0.031878119960758955, '0.87%'),\n",
              "  Text(0.5999501848723642, -0.007731472797338556, '0.41%')])"
            ]
          },
          "metadata": {},
          "execution_count": 31
        },
        {
          "output_type": "display_data",
          "data": {
            "text/plain": [
              "<Figure size 640x480 with 1 Axes>"
            ],
            "image/png": "[encoded data removed]"
          },
          "metadata": {}
        }
      ]
    },
    {
      "cell_type": "markdown",
      "source": [
        "Observations"
      ],
      "metadata": {
        "id": "pmWFcdkOj5jy"
      }
    },
    {
      "cell_type": "markdown",
      "source": [
        "seems like entire homes & private rooms are more in demand"
      ],
      "metadata": {
        "id": "0x_Z3m07j66g"
      }
    },
    {
      "cell_type": "code",
      "source": [],
      "metadata": {
        "id": "LzhOcvgXfrmb"
      },
      "execution_count": 31,
      "outputs": []
    },
    {
      "cell_type": "markdown",
      "source": [
        "## 3.How the pricing is varying with location, property type, and reviews?"
      ],
      "metadata": {
        "id": "z_564UKAj-pS"
      }
    },
    {
      "cell_type": "markdown",
      "source": [
        "### Avg price per neighborhood"
      ],
      "metadata": {
        "id": "1NGEwahGkDOh"
      }
    },
    {
      "cell_type": "code",
      "execution_count": 32,
      "metadata": {
        "colab": {
          "base_uri": "https://localhost:8080/"
        },
        "outputId": "0dad410d-5f57-460d-c892-19fa7047d142",
        "id": "CLi_KzSck-e0"
      },
      "outputs": [
        {
          "output_type": "execute_result",
          "data": {
            "text/plain": [
              "locations_combined\n",
              "chicago,N/A,Clearing                         351.176471\n",
              "new orleans,N/A,Read Blvd East               345.625000\n",
              "chicago,N/A,Near North Side                  337.975915\n",
              "new orleans,N/A,Lake Catherine               320.869565\n",
              "new orleans,N/A,U.S. Naval Base              311.000000\n",
              "new orleans,N/A,West Lake Forest             305.000000\n",
              "new orleans,N/A,French Quarter               298.193396\n",
              "new orleans,N/A,Pontchartrain Park           280.500000\n",
              "chicago,N/A,West Town                        277.413793\n",
              "new orleans,N/A,Central Business District    268.411282\n",
              "Name: price, dtype: float64"
            ]
          },
          "metadata": {},
          "execution_count": 32
        }
      ],
      "source": [
        "dfg = df.groupby(['locations_combined'])['price'].mean().nlargest(10)\n",
        "dfg"
      ]
    },
    {
      "cell_type": "code",
      "execution_count": 33,
      "metadata": {
        "colab": {
          "base_uri": "https://localhost:8080/",
          "height": 778
        },
        "outputId": "246a757d-55e1-4396-fbe6-e0ea67ecea8a",
        "id": "9nbGMTv-k-e-"
      },
      "outputs": [
        {
          "output_type": "execute_result",
          "data": {
            "text/plain": [
              "<Axes: title={'center': 'avg price per location'}, xlabel='locations_combined', ylabel='avg price'>"
            ]
          },
          "metadata": {},
          "execution_count": 33
        },
        {
          "output_type": "display_data",
          "data": {
            "text/plain": [
              "<Figure size 600x500 with 1 Axes>"
            ],
            "image/png": "[encoded data removed]"
          },
          "metadata": {}
        }
      ],
      "source": [
        "dfg.plot(kind='bar', title='avg price per location', ylabel='avg price',\n",
        "         xlabel='locations_combined', figsize=(6, 5))"
      ]
    },
    {
      "cell_type": "markdown",
      "source": [
        "rentals in new orleans are more expensive than chicago"
      ],
      "metadata": {
        "id": "chcXaBDgPVpT"
      }
    },
    {
      "cell_type": "markdown",
      "source": [
        "### Price vs latitude & longitude"
      ],
      "metadata": {
        "id": "M57yZy6QqBjh"
      }
    },
    {
      "cell_type": "code",
      "source": [
        "\n",
        "\n",
        "sns.scatterplot(data=df, x=\"latitude\", y=\"price\")\n"
      ],
      "metadata": {
        "colab": {
          "base_uri": "https://localhost:8080/",
          "height": 466
        },
        "id": "CRT7Hik4frr4",
        "outputId": "26e9282e-8c3e-4fa1-e13b-74bd0c242bc1"
      },
      "execution_count": 34,
      "outputs": [
        {
          "output_type": "execute_result",
          "data": {
            "text/plain": [
              "<Axes: xlabel='latitude', ylabel='price'>"
            ]
          },
          "metadata": {},
          "execution_count": 34
        },
        {
          "output_type": "display_data",
          "data": {
            "text/plain": [
              "<Figure size 640x480 with 1 Axes>"
            ],
            "image/png": "[encoded data removed]"
          },
          "metadata": {}
        }
      ]
    },
    {
      "cell_type": "code",
      "source": [
        "sns.scatterplot(data=df, x=\"longitude\", y=\"price\")"
      ],
      "metadata": {
        "colab": {
          "base_uri": "https://localhost:8080/",
          "height": 466
        },
        "id": "YVDHkhrCtw_D",
        "outputId": "eb379a03-b2f5-44b2-c9f7-e8c37ec09d44"
      },
      "execution_count": 35,
      "outputs": [
        {
          "output_type": "execute_result",
          "data": {
            "text/plain": [
              "<Axes: xlabel='longitude', ylabel='price'>"
            ]
          },
          "metadata": {},
          "execution_count": 35
        },
        {
          "output_type": "display_data",
          "data": {
            "text/plain": [
              "<Figure size 640x480 with 1 Axes>"
            ],
            "image/png": "[encoded data removed]"
          },
          "metadata": {}
        }
      ]
    },
    {
      "cell_type": "markdown",
      "source": [
        "### Avg price per room type"
      ],
      "metadata": {
        "id": "oQVV4c-AuLVH"
      }
    },
    {
      "cell_type": "code",
      "source": [],
      "metadata": {
        "id": "BpIgQu2ifrvp"
      },
      "execution_count": 35,
      "outputs": []
    },
    {
      "cell_type": "code",
      "execution_count": 36,
      "metadata": {
        "colab": {
          "base_uri": "https://localhost:8080/"
        },
        "outputId": "fb978482-ca97-4ba0-9905-506586ccb668",
        "id": "mUj2tPULudZ1"
      },
      "outputs": [
        {
          "output_type": "execute_result",
          "data": {
            "text/plain": [
              "room_type\n",
              "Entire home/apt    210.330038\n",
              "Private room       173.351214\n",
              "Hotel room         165.046875\n",
              "Shared room         87.272059\n",
              "Name: price, dtype: float64"
            ]
          },
          "metadata": {},
          "execution_count": 36
        }
      ],
      "source": [
        "dfg = df.groupby(['room_type'])['price'].mean().nlargest(10)\n",
        "dfg"
      ]
    },
    {
      "cell_type": "code",
      "execution_count": 37,
      "metadata": {
        "colab": {
          "base_uri": "https://localhost:8080/",
          "height": 602
        },
        "outputId": "963d35b3-26f3-404f-8010-7108f61ffc1a",
        "id": "3ARlJracudZ1"
      },
      "outputs": [
        {
          "output_type": "execute_result",
          "data": {
            "text/plain": [
              "<Axes: title={'center': 'avg price per room type'}, xlabel='room type', ylabel='avg price'>"
            ]
          },
          "metadata": {},
          "execution_count": 37
        },
        {
          "output_type": "display_data",
          "data": {
            "text/plain": [
              "<Figure size 600x500 with 1 Axes>"
            ],
            "image/png": "[encoded data removed]"
          },
          "metadata": {}
        }
      ],
      "source": [
        "dfg.plot(kind='bar', title='avg price per room type', ylabel='avg price',\n",
        "         xlabel='room type', figsize=(6, 5))"
      ]
    },
    {
      "cell_type": "markdown",
      "source": [
        "entire apartments & privatye rooms are more expensive than others"
      ],
      "metadata": {
        "id": "c_9aRRI1b0mH"
      }
    },
    {
      "cell_type": "code",
      "source": [],
      "metadata": {
        "id": "dv5Bz98_frz6"
      },
      "execution_count": 37,
      "outputs": []
    },
    {
      "cell_type": "code",
      "source": [],
      "metadata": {
        "id": "9j0pZCoBfr2g"
      },
      "execution_count": 37,
      "outputs": []
    },
    {
      "cell_type": "code",
      "source": [],
      "metadata": {
        "id": "3jK7PG7Rfr5y"
      },
      "execution_count": 37,
      "outputs": []
    },
    {
      "cell_type": "code",
      "source": [],
      "metadata": {
        "id": "KwX8PgVPfr9t"
      },
      "execution_count": 37,
      "outputs": []
    },
    {
      "cell_type": "code",
      "source": [],
      "metadata": {
        "id": "ae2j10ftfr_l"
      },
      "execution_count": 37,
      "outputs": []
    },
    {
      "cell_type": "code",
      "source": [],
      "metadata": {
        "id": "qSkJvbXsfsBt"
      },
      "execution_count": 37,
      "outputs": []
    },
    {
      "cell_type": "code",
      "source": [],
      "metadata": {
        "id": "kWUlYOhbfsDX"
      },
      "execution_count": 37,
      "outputs": []
    },
    {
      "cell_type": "code",
      "source": [],
      "metadata": {
        "id": "2nSboBJGfsGh"
      },
      "execution_count": 37,
      "outputs": []
    },
    {
      "cell_type": "code",
      "source": [],
      "metadata": {
        "id": "KJUQ0xnrfsIn"
      },
      "execution_count": 37,
      "outputs": []
    },
    {
      "cell_type": "code",
      "source": [],
      "metadata": {
        "id": "R0xmD-pdfsKv"
      },
      "execution_count": 37,
      "outputs": []
    },
    {
      "cell_type": "code",
      "source": [],
      "metadata": {
        "id": "Oicx_ti9fsMw"
      },
      "execution_count": 37,
      "outputs": []
    },
    {
      "cell_type": "code",
      "source": [],
      "metadata": {
        "id": "X6v_MhldfsOu"
      },
      "execution_count": 37,
      "outputs": []
    },
    {
      "cell_type": "code",
      "source": [],
      "metadata": {
        "id": "J9K7ECSNfsQy"
      },
      "execution_count": 37,
      "outputs": []
    },
    {
      "cell_type": "code",
      "source": [],
      "metadata": {
        "id": "sjNPV7zvfsTS"
      },
      "execution_count": 37,
      "outputs": []
    },
    {
      "cell_type": "code",
      "source": [],
      "metadata": {
        "id": "fBvzVUW3Cqwf"
      },
      "execution_count": 37,
      "outputs": []
    },
    {
      "cell_type": "code",
      "source": [],
      "metadata": {
        "id": "QBxqw9fiCqyT"
      },
      "execution_count": 37,
      "outputs": []
    },
    {
      "cell_type": "code",
      "source": [],
      "metadata": {
        "id": "mlwfBNhOCq07"
      },
      "execution_count": 37,
      "outputs": []
    },
    {
      "cell_type": "code",
      "source": [],
      "metadata": {
        "id": "LysrrUUTCq4K"
      },
      "execution_count": 37,
      "outputs": []
    },
    {
      "cell_type": "code",
      "source": [],
      "metadata": {
        "id": "kgeF9qGdqA-m"
      },
      "execution_count": 37,
      "outputs": []
    },
    {
      "cell_type": "code",
      "source": [],
      "metadata": {
        "id": "JIja5eJZZhjK"
      },
      "execution_count": 37,
      "outputs": []
    },
    {
      "cell_type": "code",
      "source": [],
      "metadata": {
        "id": "84Pnerl1ZhmB"
      },
      "execution_count": 37,
      "outputs": []
    },
    {
      "cell_type": "code",
      "source": [],
      "metadata": {
        "id": "D2AUcRmjZhoh"
      },
      "execution_count": 37,
      "outputs": []
    },
    {
      "cell_type": "code",
      "source": [],
      "metadata": {
        "id": "PO2rzsZjZhrK"
      },
      "execution_count": 37,
      "outputs": []
    },
    {
      "cell_type": "code",
      "source": [],
      "metadata": {
        "id": "fhHcU7uTZhxp"
      },
      "execution_count": 37,
      "outputs": []
    },
    {
      "cell_type": "code",
      "source": [],
      "metadata": {
        "id": "OQDaHI6lZhy9"
      },
      "execution_count": 37,
      "outputs": []
    },
    {
      "cell_type": "code",
      "source": [],
      "metadata": {
        "id": "fB2F7o71Zh0L"
      },
      "execution_count": 37,
      "outputs": []
    },
    {
      "cell_type": "code",
      "source": [],
      "metadata": {
        "id": "MvPJtvO0Zh1l"
      },
      "execution_count": 37,
      "outputs": []
    },
    {
      "cell_type": "code",
      "source": [],
      "metadata": {
        "id": "g4gseYqwZh37"
      },
      "execution_count": 37,
      "outputs": []
    },
    {
      "cell_type": "code",
      "source": [],
      "metadata": {
        "id": "WBuNRnnVZh7N"
      },
      "execution_count": 37,
      "outputs": []
    },
    {
      "cell_type": "code",
      "source": [],
      "metadata": {
        "id": "dVL1TNSMZh_S"
      },
      "execution_count": 37,
      "outputs": []
    },
    {
      "cell_type": "code",
      "source": [],
      "metadata": {
        "id": "7hLfMqUFZiB7"
      },
      "execution_count": 37,
      "outputs": []
    },
    {
      "cell_type": "code",
      "source": [],
      "metadata": {
        "id": "loZQ0lykZiEq"
      },
      "execution_count": 37,
      "outputs": []
    },
    {
      "cell_type": "code",
      "source": [],
      "metadata": {
        "id": "1qL62CQGZiHe"
      },
      "execution_count": 37,
      "outputs": []
    },
    {
      "cell_type": "code",
      "source": [],
      "metadata": {
        "id": "GJlqlNiaZiJ6"
      },
      "execution_count": 37,
      "outputs": []
    },
    {
      "cell_type": "code",
      "source": [],
      "metadata": {
        "id": "PNJg5DevZiMa"
      },
      "execution_count": 37,
      "outputs": []
    },
    {
      "cell_type": "code",
      "source": [
        "\n",
        "\n",
        "\n",
        "\n"
      ],
      "metadata": {
        "id": "1a18yo2wjvW0"
      },
      "execution_count": 37,
      "outputs": []
    },
    {
      "cell_type": "code",
      "source": [
        "df.shape"
      ],
      "metadata": {
        "colab": {
          "base_uri": "https://localhost:8080/"
        },
        "id": "qgtSmHFLo3Yo",
        "outputId": "8b6f4b74-479e-4a45-929f-77ac8ce5b14a"
      },
      "execution_count": 38,
      "outputs": [
        {
          "output_type": "execute_result",
          "data": {
            "text/plain": [
              "(15603, 20)"
            ]
          },
          "metadata": {},
          "execution_count": 38
        }
      ]
    }
  ]
}